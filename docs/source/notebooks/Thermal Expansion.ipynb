{
 "cells": [
  {
   "cell_type": "markdown",
   "id": "be6c0c49",
   "metadata": {},
   "source": [
    "# Thermal Expansion\n",
    "This example is originally from [GPUMD](https://github.com/brucefan1983/GPUMD) and has been added here with minor changes only to demonstrate how to use [gpyumd](https://github.com/AlexGabourie/gpyumd).\n",
    "\n",
    "## 1. Introduction\n",
    "- A given crystal should have a well defined average lattice constant at a given pressure and temperature. Here we use silicon as an example to show how to calculate lattice constants using <code>GPUMD</code>. "
   ]
  },
  {
   "cell_type": "markdown",
   "id": "62deb8c2",
   "metadata": {},
   "source": [
    "### Importing Relevant Functions\n",
    "- The inputs/outputs for GPUMD are processed using the [Atomic Simulation Environment (ASE)](https://wiki.fysik.dtu.dk/ase/) and the [gpyumd](https://github.com/AlexGabourie/gpyumd) package."
   ]
  },
  {
   "cell_type": "code",
   "execution_count": 3,
   "id": "1229c91f",
   "metadata": {},
   "outputs": [],
   "source": [
    "import matplotlib.pyplot as plt\n",
    "import numpy as np\n",
    "from ase.lattice.cubic import Diamond\n",
    "from gpyumd.atoms import GpumdAtoms\n",
    "from gpyumd.io import read_gpumd\n",
    "import gpyumd.keyword as kwd\n",
    "from gpyumd.load import load_thermo\n",
    "from gpyumd.sim import Simulation"
   ]
  },
  {
   "cell_type": "markdown",
   "id": "cc504542",
   "metadata": {},
   "source": [
    "## 2. Preparing the Inputs\n",
    "- We use a cubic system (of diamond structure) consisting of $10^3\\times 8 = 8000$ silicon atoms and use the minimal Tersoff potential [[Fan 2020]](https://doi.org/10.1088/1361-648X/ab5c5f).\n",
    "\n",
    "### Generate the  [xyz.in](https://gpumd.zheyongfan.org/index.php/The_xyz.in_input_file) file:"
   ]
  },
  {
   "cell_type": "code",
   "execution_count": 2,
   "id": "a7371638",
   "metadata": {},
   "outputs": [
    {
     "data": {
      "text/plain": [
       "GpumdAtoms(symbols='Si8000', pbc=True, cell=[54.3, 54.3, 54.3])"
      ]
     },
     "execution_count": 2,
     "metadata": {},
     "output_type": "execute_result"
    }
   ],
   "source": [
    "Si = GpumdAtoms(Diamond('Si', size=(10,10,10)))\n",
    "Si.set_max_neighbors(4)\n",
    "Si.set_cutoff(3)\n",
    "# We write the xyz.in file here, but gpyumd will also write\n",
    "# it when we create a simulation.\n",
    "Si.write_gpumd()  \n",
    "Si"
   ]
  },
  {
   "cell_type": "markdown",
   "id": "68cf0ba2",
   "metadata": {},
   "source": [
    "- The first few lines of the [xyz.in](https://gpumd.zheyongfan.org/index.php/The_xyz.in_input_file) file are:\n",
    "```\n",
    "8000 4 3 0 0 0\n",
    "1 1 1 54.3 54.3 54.3\n",
    "0 0 0 0 28\n",
    "0 0 2.715 2.715 28\n",
    "0 2.715 0 2.715 28\n",
    "0 2.715 2.715 0 28\n",
    "```\n",
    "- Explanations for the first line:\n",
    " - The first number states that the number of particles is 8000. \n",
    " - The second number in this line, 4, is good for silicon crystals described by the Tersoff potential because no atom can have more than 4 neighbor atoms in the temperature range studied. Making this number larger only results in more memory usage. If this number is not large enough, <code>GPUMD</code> will give an error message and exit.\n",
    " - The next number, 3, means the initial cutoff distance for the neighbor list construction is 3 A. Here, we only need to consider the first nearest neighbors. Any number larger than the first nearest neighbor distance and smaller than the second nearest neighbor distance is OK here. Note that we will also not update the neighbor list. There is no such need in this problem. \n",
    " - The remaining three zeros in the first line mean: \n",
    "   - the box is orthogonal;\n",
    "   - the initial velocities are not contained in this file; \n",
    "   - there is no grouping method defined here. \n",
    " \n",
    "- Explanations for the second line:\n",
    " - The first three 1's mean that all three directions are periodic. \n",
    " - The remaining three numbers are the box lengths in the three directions. It can be seen that we have used an initial lattice constant of 5.43 A to build the model.\n",
    "\n",
    "- Starting from the third line, the numbers in the first column are all 0 here, which means that all the atoms are of type 0 (single atom-type system). The next three columns are the initial coordinates of the atoms. The last column gives the masses of the atoms. Here, we show isotopically pure Si-28 crystal, but this Jupyter notebook will generate an [xyz.in](https://gpumd.zheyongfan.org/index.php/The_xyz.in_input_file) file using the average of the various isotopes of Si. In some applications, one can consider mass disorder in a flexible way.\n",
    "\n",
    "Note: We write the <code>xyz.in</code> file here for demonstration purposes, but the Simulation we are about to make also outputs the <code>xyz.in</code> file."
   ]
  },
  {
   "cell_type": "markdown",
   "id": "3db17810",
   "metadata": {},
   "source": [
    "### The <code>run.in</code> file:\n",
    "The [gpyumd](https://github.com/AlexGabourie/gpyumd) package can be used to generate valid <code>run.in</code> input files as well as other necessary input files. It follows the definitions described in the [inputs and outputs](https://gpumd.zheyongfan.org/index.php/Main_Page#Inputs_and_outputs_for_GPUMD) documentation for <code>GPUMD</code>."
   ]
  },
  {
   "cell_type": "code",
   "execution_count": 3,
   "id": "c13bc17a",
   "metadata": {},
   "outputs": [],
   "source": [
    "# Create an empty simulation to build our run.in file with\n",
    "# Using the correct driver_directory is essential for potential path definitions.\n",
    "expansion_sim = Simulation(Si, driver_directory='.')"
   ]
  },
  {
   "cell_type": "code",
   "execution_count": 4,
   "id": "dbe71eb2",
   "metadata": {},
   "outputs": [],
   "source": [
    "# Programmatically define our thermal expansion runs\n",
    "\n",
    "# Setup common NPT parameters\n",
    "npt_condition = 'orthogonal'\n",
    "pdict = kwd.Ensemble.get_npt_pdict(condition=npt_condition)\n",
    "pdict['p_xx'], pdict['p_yy'], pdict['p_zz'] = [0]*3  # GPa\n",
    "pdict['C_xx'], pdict['C_yy'], pdict['C_zz'] = [53.4059]*3  # GPa\n",
    "\n",
    "\n",
    "for curr_temp in range(100, 1001, 100):\n",
    "    curr_run = expansion_sim.add_run(number_of_steps=2e4, run_name=f\"T{curr_temp}\")\n",
    "    npt_ensemble = kwd.Ensemble(ensemble_method='npt_ber')\n",
    "    npt_ensemble.set_npt_parameters(initial_temperature=curr_temp, final_temperature=curr_temp, thermostat_coupling=100, \n",
    "                                    barostat_coupling=2000, condition=npt_condition, pdict=pdict)\n",
    "\n",
    "    keywords = [\n",
    "        npt_ensemble,\n",
    "        kwd.NeighborOff(),\n",
    "        kwd.DumpThermo(10)]\n",
    "    \n",
    "    # First run initializations\n",
    "    if curr_temp == 100:  \n",
    "        keywords.append(kwd.Velocity(initial_temperature=100))\n",
    "        keywords.append(kwd.TimeStep(dt_in_fs=1))\n",
    "\n",
    "    for keyword in keywords:\n",
    "        curr_run.add_keyword(keyword)"
   ]
  },
  {
   "cell_type": "code",
   "execution_count": 5,
   "id": "f7c50e84",
   "metadata": {},
   "outputs": [],
   "source": [
    "# Define the potential\n",
    "potential_directory = \"/path/to/GPUMD/potentials/tersoff\"\n",
    "tersoff_potential = kwd.Potential(filename='Si_Fan_2019.txt', symbols=['Si'], directory=potential_directory)\n",
    "expansion_sim.add_potential(tersoff_potential)"
   ]
  },
  {
   "cell_type": "code",
   "execution_count": 6,
   "id": "bffa89a5",
   "metadata": {},
   "outputs": [],
   "source": [
    "# Generate xyz.in and run.in files. Can also copy potentials to simulation directory.\n",
    "expansion_sim.create_simulation(copy_potentials=True)"
   ]
  },
  {
   "cell_type": "markdown",
   "id": "1b976514",
   "metadata": {},
   "source": [
    "The <code>run.in</code> input file is given below:<br>\n",
    "```\n",
    "potential Si_Fan_2019.txt 0\n",
    "\n",
    "time_step 1 \n",
    "ensemble npt_ber 100 100 100 0 0 0 53.4059 53.4059 53.4059 2000 \n",
    "neighbor off \n",
    "dump_thermo 10 \n",
    "velocity 100 \n",
    "run 20000 \n",
    "\n",
    "ensemble npt_ber 200 200 100 0 0 0 53.4059 53.4059 53.4059 2000 \n",
    "neighbor off \n",
    "dump_thermo 10 \n",
    "run 20000 \n",
    "\n",
    "ensemble npt_ber 300 300 100 0 0 0 53.4059 53.4059 53.4059 2000 \n",
    "neighbor off \n",
    "dump_thermo 10 \n",
    "run 20000 \n",
    "\n",
    "ensemble npt_ber 400 400 100 0 0 0 53.4059 53.4059 53.4059 2000 \n",
    "neighbor off \n",
    "dump_thermo 10 \n",
    "run 20000 \n",
    "\n",
    "ensemble npt_ber 500 500 100 0 0 0 53.4059 53.4059 53.4059 2000 \n",
    "neighbor off \n",
    "dump_thermo 10 \n",
    "run 20000 \n",
    "\n",
    "ensemble npt_ber 600 600 100 0 0 0 53.4059 53.4059 53.4059 2000 \n",
    "neighbor off \n",
    "dump_thermo 10 \n",
    "run 20000 \n",
    "\n",
    "ensemble npt_ber 700 700 100 0 0 0 53.4059 53.4059 53.4059 2000 \n",
    "neighbor off \n",
    "dump_thermo 10 \n",
    "run 20000 \n",
    "\n",
    "ensemble npt_ber 800 800 100 0 0 0 53.4059 53.4059 53.4059 2000 \n",
    "neighbor off \n",
    "dump_thermo 10 \n",
    "run 20000 \n",
    "\n",
    "ensemble npt_ber 900 900 100 0 0 0 53.4059 53.4059 53.4059 2000 \n",
    "neighbor off \n",
    "dump_thermo 10 \n",
    "run 20000 \n",
    "\n",
    "ensemble npt_ber 1000 1000 100 0 0 0 53.4059 53.4059 53.4059 2000 \n",
    "neighbor off \n",
    "dump_thermo 10 \n",
    "run 20000 \n",
    "```\n",
    "- The first line uses the [potential](https://gpumd.zheyongfan.org/index.php/The_potential_keyword) keyword to define the potential to be used, which is specified in the file [Si_Fan_2019.txt](https://github.com/brucefan1983/GPUMD/blob/master/potentials/tersoff/Si_Fan_2019.txt).\n",
    "\n",
    "- The second line uses the [velocity](https://gpumd.zheyongfan.org/index.php/The_velocity_keyword) keyword and sets the velocities to be initialized with a temperature of 100 K. \n",
    "\n",
    "- The following 4 lines define the first [run](https://gpumd.zheyongfan.org/index.php/The_run_keyword). This [run](https://gpumd.zheyongfan.org/index.php/The_run_keyword) will be in the NPT [ensemble](https://gpumd.zheyongfan.org/index.php/The_ensemble_keyword), using the Berendsen method. The temperature is 100 K and the pressures are zero in all the directions. The coupling constants are 100 and 2000 time steps for the thermostat and the barostat (The elastic constant, or inverse compressibility parameter needed in the barostat is estimated to be 53.4059 GPa; this only needs to be correct up to the order of magnitude.), respectively. The [time_step](https://gpumd.zheyongfan.org/index.php/The_time_step_keyword) for integration is 1 fs. There are $2\\times 10^4$ steps for this [run](https://gpumd.zheyongfan.org/index.php/The_run_keyword) and the thermodynamic quantities will be output every 10 steps. \n",
    "\n",
    "- After this run, there are 9 other runs with the same parameters but different target temperatures. Note that the time step only needs to be set once if one wants to use the same time step in the whole simulation. In contrast, one has to use the [dump_thermo](https://gpumd.zheyongfan.org/index.php/The_dump_thermo_keyword) keyword for each run in order to get outputs for each run. That is, we can say that the [time_step](https://gpumd.zheyongfan.org/index.php/The_time_step_keyword) keyword is propagating and the [dump_thermo](https://gpumd.zheyongfan.org/index.php/The_dump_thermo_keyword) keyword is non-propagating."
   ]
  },
  {
   "cell_type": "markdown",
   "id": "71804829",
   "metadata": {},
   "source": [
    "## 3. Results and Discussion\n",
    "- It takes less than 1 min to run this example when a Tesla K40 card is used. The speed of the run is about $3\\times 10^7$ atom x step / second. Using a Tesla P100, the speed is close to $10^8$ atom x step / second."
   ]
  },
  {
   "cell_type": "markdown",
   "id": "85294875",
   "metadata": {},
   "source": [
    "**Figure Properties**"
   ]
  },
  {
   "cell_type": "code",
   "execution_count": 7,
   "id": "7990895e",
   "metadata": {},
   "outputs": [],
   "source": [
    "aw = 2\n",
    "fs = 16\n",
    "font = {'size'   : fs}\n",
    "plt.rc('font', **font)\n",
    "plt.rc('axes' , linewidth=aw)\n",
    "\n",
    "def set_fig_properties(ax_list):\n",
    "    ax_list = ax_list if isinstance(ax_list, list) else [ax_list]\n",
    "    tl = 8\n",
    "    tw = 2\n",
    "    tlm = 4\n",
    "    \n",
    "    for ax in ax_list:\n",
    "        ax.tick_params(which='major', length=tl, width=tw)\n",
    "        ax.tick_params(which='minor', length=tlm, width=tw)\n",
    "        ax.tick_params(which='both', axis='both', direction='in', right=True, top=True)"
   ]
  },
  {
   "cell_type": "markdown",
   "id": "d4d457dc",
   "metadata": {},
   "source": [
    "### Plot Thermal Expansion\n",
    "- The output file [thermo.out](https://gpumd.zheyongfan.org/index.php/The_thermo.out_output_file) contains many useful data. Here, we load the results and plot the data in the following figure."
   ]
  },
  {
   "cell_type": "code",
   "execution_count": 8,
   "id": "f0cb6759",
   "metadata": {},
   "outputs": [
    {
     "name": "stdout",
     "output_type": "stream",
     "text": [
      "Thermo quantities: ['temperature', 'K', 'U', 'Px', 'Py', 'Pz', 'Lx', 'Ly', 'Lz']\n"
     ]
    }
   ],
   "source": [
    "thermo = load_thermo()\n",
    "print(\"Thermo quantities:\", list(thermo.keys()))"
   ]
  },
  {
   "cell_type": "code",
   "execution_count": 9,
   "id": "d7aa3363",
   "metadata": {},
   "outputs": [],
   "source": [
    "time = 0.01*np.arange(1,thermo['temperature'].shape[0]+1) # [ps]\n",
    "NC = 10  # Number of cells in each direction\n",
    "NT = 10  # Number of temperature steps\n",
    "temp = np.arange(100,1001,100)\n",
    "M = thermo['temperature'].shape[0]//NT\n",
    "a = (thermo['Lx']+thermo['Ly']+thermo['Lz'])/(3*NC)\n",
    "Pave = (thermo['Px']+thermo['Py']+thermo['Pz'])/3.\n",
    "a_ave = a.reshape(NT, M)[:,M//2+1:].mean(axis=1)\n",
    "fit = np.poly1d(np.polyfit(temp, a_ave, deg=1))"
   ]
  },
  {
   "cell_type": "code",
   "execution_count": 10,
   "id": "9c804164",
   "metadata": {},
   "outputs": [
    {
     "data": {
      "image/png": "[encoded data removed]",
      "text/plain": [
       "<Figure size 864x720 with 4 Axes>"
      ]
     },
     "metadata": {
      "needs_background": "light"
     },
     "output_type": "display_data"
    }
   ],
   "source": [
    "axes = list()\n",
    "plt.figure(figsize=(12,10))\n",
    "plt.subplot(2,2,1)\n",
    "axes.append(plt.gca())\n",
    "plt.plot(time, thermo['temperature'])\n",
    "plt.xlim([0, 200])\n",
    "plt.gca().set_xticks(range(0,201,50))\n",
    "plt.ylim([0, 1100])\n",
    "plt.gca().set_yticks(range(0,1101,500))\n",
    "plt.ylabel('Temperature (K)')\n",
    "plt.xlabel('Time (ps)')\n",
    "plt.title('(a)')\n",
    "\n",
    "plt.subplot(2,2,2)\n",
    "axes.append(plt.gca())\n",
    "plt.plot(time, Pave)\n",
    "plt.xlim([0, 200])\n",
    "plt.gca().set_xticks(range(0,201,50))\n",
    "plt.ylim([-0.1, 0.4])\n",
    "plt.gca().set_yticks(np.arange(-1,5)/10)\n",
    "plt.ylabel('Pressure (GPa)')\n",
    "plt.xlabel('Time (ps)')\n",
    "plt.title('(b)')\n",
    "\n",
    "plt.subplot(2,2,3)\n",
    "axes.append(plt.gca())\n",
    "plt.plot(time, a,linewidth=3)\n",
    "plt.xlim([0, 200])\n",
    "plt.gca().set_xticks(range(0,201,50))\n",
    "plt.ylim([5.43, 5.48])\n",
    "plt.gca().set_yticks([5.44,5.46,5.48])\n",
    "plt.ylabel(r'a ($\\AA$)')\n",
    "plt.xlabel('Time (ps)')\n",
    "plt.title('(c)')\n",
    "\n",
    "plt.subplot(2,2,4)\n",
    "axes.append(plt.gca())\n",
    "Tpoly = [0, 1100]\n",
    "plt.plot(Tpoly, fit(Tpoly),color='C3')\n",
    "plt.scatter(temp, a_ave,s=200,zorder=100,facecolor='none',edgecolors='C0',linewidths=3)\n",
    "plt.xlim([0, 1100])\n",
    "plt.gca().set_xticks(range(0,1101,500))\n",
    "plt.ylim([5.43, 5.48])\n",
    "plt.gca().set_yticks([5.44,5.46,5.48])\n",
    "plt.ylabel(r'a ($\\AA$)')\n",
    "plt.xlabel('Temperature (K)')\n",
    "plt.title('(d)')\n",
    "\n",
    "set_fig_properties(axes)\n",
    "plt.tight_layout()\n",
    "plt.show()"
   ]
  },
  {
   "cell_type": "markdown",
   "id": "14f35c9e",
   "metadata": {},
   "source": [
    "**(a)** Instant temperature as a function of simulation time. **(b)** Instant pressure as a function of simulation time. **(c)** Instant lattice constant as a function of simulation time. **(d)** Averaged lattice constant (over the last 10 ps in each run for a given temperature) as a function of temperature."
   ]
  },
  {
   "cell_type": "markdown",
   "id": "5d902601",
   "metadata": {},
   "source": [
    "Additional figure notes:<br>\n",
    "- (a): The temperature for each run quickly reaches the target temperature (with fluctuations).\n",
    "\n",
    "- (b): The pressure (averaged over the three directions) for each run quickly reaches the target pressure zero (with fluctuations).\n",
    "\n",
    "- (c): The lattice constant (averaged over the three directions) for each run reaches a plateau (with fluctuations) after some steps.\n",
    "\n",
    "- (d): We calculate the average lattice constant at each temperature by averaging the second half of the data for each run. The average lattice constants at different temperatures can be well fit by a linear function, with the thermal expansion coefficient being estimated to be $\\alpha \\approx 7.2 \\times 10^{-6} $ K<sup>-1</sup>."
   ]
  },
  {
   "cell_type": "markdown",
   "id": "15306104",
   "metadata": {},
   "source": [
    "## 4. References\n",
    "[Fan 2020] Zheyong Fan, Yanzhou Wang, Xiaokun Gu, Ping Qian, Yanjing Su, and Tapio Ala-Nissila, [A minimal Tersoff potential for diamond silicon with improved descriptions of elastic and phonon transport properties](https://doi.org/10.1088/1361-648X/ab5c5f), J. Phys.: Condens. Matter **32** 135901 (2020)."
   ]
  }
 ],
 "metadata": {
  "kernelspec": {
   "display_name": "Python 3 (ipykernel)",
   "language": "python",
   "name": "python3"
  },
  "language_info": {
   "codemirror_mode": {
    "name": "ipython",
    "version": 3
   },
   "file_extension": ".py",
   "mimetype": "text/x-python",
   "name": "python",
   "nbconvert_exporter": "python",
   "pygments_lexer": "ipython3",
   "version": "3.8.12"
  }
 },
 "nbformat": 4,
 "nbformat_minor": 5
}
