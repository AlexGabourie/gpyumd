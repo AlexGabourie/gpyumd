{
 "cells": [
  {
   "cell_type": "markdown",
   "id": "252f18b7",
   "metadata": {
    "pycharm": {
     "name": "#%% md\n"
    }
   },
   "source": [
    "# Modal Analysis - Thermal Transport\n",
    "\n",
    "## 1. Introduction\n",
    "- In this tutorial, we use the SHC, HNEMA, and GKMA methods to study heat transport in hBN at 300 K. There are six parts to this tutorial:\n",
    "> - Introduction\n",
    "> - Structure creation\n",
    "> - Eigenvector calculation\n",
    "> - HNEMA Simulations\n",
    "> - GKMA Simulations\n",
    "> - References\n",
    "- This example is based on the work described in [[Gabourie 2021](https://journals.aps.org/prb/abstract/10.1103/PhysRevB.103.205421)].\n",
    "- Note that this tutorial is simplified to demonstrate how to use [gpyumd](https://github.com/AlexGabourie/gpyumd) and a real investigation of the thermal properties of hBN requires significantly more simulations.  "
   ]
  },
  {
   "cell_type": "markdown",
   "id": "e4afb539",
   "metadata": {
    "pycharm": {
     "name": "#%% md\n"
    }
   },
   "source": [
    "### Importing Relevant Functions\n",
    "- The inputs/outputs for GPUMD are processed using the [Atomic Simulation Environment (ASE)](https://wiki.fysik.dtu.dk/ase/) and the [gpyumd](https://github.com/AlexGabourie/gpyumd) package."
   ]
  },
  {
   "cell_type": "code",
   "execution_count": 1,
   "id": "55a71020",
   "metadata": {
    "pycharm": {
     "name": "#%%\n"
    }
   },
   "outputs": [],
   "source": [
    "import os\n",
    "import numpy as np\n",
    "import matplotlib.pyplot as plt\n",
    "from ase.build import graphene_nanoribbon\n",
    "from ase import Atom\n",
    "from gpyumd.atoms import GpumdAtoms\n",
    "from gpyumd.sim import Simulation\n",
    "import gpyumd.keyword as kwd\n",
    "from gpyumd.load import load_frequency_info, load_kappa, load_kappamode, \\\n",
    "                        load_shc, load_hac, load_heatmode, load_saved_heatmode\n",
    "from gpyumd.math import running_ave\n",
    "from gpyumd.calc import calc_spectral_kappa, calc_gkma_kappa\n",
    "\n",
    "eigen_dir = 'eigenvector'\n",
    "hnema_dir = 'hnema'\n",
    "gkma_dir = 'gkma'"
   ]
  },
  {
   "cell_type": "markdown",
   "id": "4f240a26",
   "metadata": {
    "pycharm": {
     "name": "#%% md\n"
    }
   },
   "source": [
    "### Figure Properties"
   ]
  },
  {
   "cell_type": "code",
   "execution_count": 2,
   "id": "52ca63d6",
   "metadata": {
    "pycharm": {
     "name": "#%%\n"
    }
   },
   "outputs": [],
   "source": [
    "aw = 2\n",
    "fs = 16\n",
    "font = {'size'   : fs}\n",
    "plt.rc('font', **font)\n",
    "plt.rc('axes' , linewidth=aw)\n",
    "\n",
    "def set_fig_properties(ax_list):\n",
    "    ax_list = ax_list if isinstance(ax_list, list) else [ax_list]\n",
    "    tl = 8\n",
    "    tw = 2\n",
    "    tlm = 4\n",
    "    \n",
    "    for ax in ax_list:\n",
    "        ax.tick_params(which='major', length=tl, width=tw)\n",
    "        ax.tick_params(which='minor', length=tlm, width=tw)\n",
    "        ax.tick_params(which='both', axis='both', direction='in', right=True, top=True)"
   ]
  },
  {
   "cell_type": "markdown",
   "id": "5531014a",
   "metadata": {
    "pycharm": {
     "name": "#%% md\n"
    }
   },
   "source": [
    "## 2. Structure Creation\n",
    "- The structure is a 3840 atom hBN structure that is ~10 $\\times$ 10 nm<sup>2</sup>. To create this, we generate a graphene nanoribbon, but swap carbon with boron. We then change half the masses to that of nitrogen, but keep the type as boron. We keep the type as boron because the Tersoff potential [[Tersoff 1989]](https://doi.org/10.1103/PhysRevB.39.5566) we use for hBN [[Sevik 2011]](https://journals.aps.org/prb/abstract/10.1103/PhysRevB.84.085409) does not have parameters that are distinguished by type (i.e., it is a one atom potential). This mass changing trick is OK here, but, a simple change to the hBN potential file (i.e., from a one atom to a two atom potential) would be needed if your simulation also used an LJ potential as the type becomes important.\n",
    "- The thickness of the hBN sheet is 3.33 $\\mathring A$ and this is used to calculate the thermal conductivity."
   ]
  },
  {
   "cell_type": "code",
   "execution_count": 3,
   "id": "06f2a5f6",
   "metadata": {
    "pycharm": {
     "name": "#%%\n"
    }
   },
   "outputs": [
    {
     "data": {
      "text/plain": [
       "GpumdAtoms(symbols='B3840', pbc=[True, True, False], cell=[99.76612651596731, 103.68, 3.33], masses=...)"
      ]
     },
     "execution_count": 3,
     "metadata": {},
     "output_type": "execute_result"
    }
   ],
   "source": [
    "hbn = GpumdAtoms(graphene_nanoribbon(40,24, type='armchair', sheet=True, \n",
    "                                     vacuum=3.33/2, main_element='B', C_C=1.44))\n",
    "nitrogen_mass = Atom('N').mass\n",
    "for i, atom in enumerate(hbn):\n",
    "    if i % 2 == 1:\n",
    "        atom.mass = nitrogen_mass\n",
    "        \n",
    "hbn.euler_rotate(theta=90)\n",
    "lx, lz, ly = hbn.cell.lengths()\n",
    "hbn.cell = hbn.cell.new((lx, ly, lz))\n",
    "hbn.center()\n",
    "hbn.pbc = [True, True, False]\n",
    "hbn.set_cutoff(2.1)\n",
    "hbn.set_max_neighbors(3)\n",
    "hbn"
   ]
  },
  {
   "cell_type": "markdown",
   "id": "d210008b",
   "metadata": {
    "pycharm": {
     "name": "#%% md\n"
    }
   },
   "source": [
    "- While we generate the [xyz.in](https://gpumd.zheyongfan.org/index.php/The_xyz.in_input_file) file later when we create a simulation, we'll show the first few lines of what it will look like here:\n",
    "```\n",
    "3840 3 2.1 0 0 0\n",
    "1 1 0 99.76612651596731 103.68 3.33\n",
    "0 97.89551164379293 0.7199999999999991 1.664999999999997 10.81\n",
    "0 99.14258822524252 1.439999999999999 1.664999999999997 14.007\n",
    "0 99.14258822524252 2.879999999999999 1.6649999999999971 10.81\n",
    "0 97.89551164379293 3.5999999999999988 1.6649999999999971 14.007\n",
    "```\n",
    "\n",
    "- Explanations for the first line:\n",
    "  - The first number states that the number of particles is 3840.\n",
    "  - The second number in this line, 3, is good for hBN described by the Tersoff potential because no atom can have more than 3 neighbor atoms at room temperature. Making this number larger only results in more memory usage. If this number is not large enough, GPUMD will give an error message and exit.\n",
    "  - The next number, 2.1, means that the initial cutoff distance for the neighbor list construction is 2.1 A. Here, we only need to consider the first nearest neighbors. Any number larger than the first nearest neighbor distance and smaller than the second nearest neighbor distance is OK here. Note that we will also not update the neighbor list. There is no such need in this problem. \n",
    "  - The remaining three zeros in the first line mean:\n",
    "    - the box is orthogonal;\n",
    "    - the initial velocities are not contained in this file;\n",
    "    - there are no grouping methods defined here.\n",
    "\n",
    "\n",
    " - Explanations for the second line:\n",
    "   - The numbers 1 1 0 mean that the x and y (in-plane) directions are periodic and the z direction is open (free).\n",
    "   - The remaining three numbers are the box lengths in the three directions. The box length in a free direction is chosen based on some convention. This number will only affect the system volume.\n",
    "\n",
    "- Starting from the third line, the numbers in the first column are all 0 here, which means that all the atoms are of type 0 (single atom-type system). The next three columns are the initial coordinates of the atoms. The last column gives the masses of the atoms. Remember that the hBN Tersoff potential [[Sevik 2011](https://journals.aps.org/prb/abstract/10.1103/PhysRevB.84.085409)] we are using represents B and N atoms using the same parameters, so it is a single atom-type potential; however, we change the masses to reflect the correct type.\n"
   ]
  },
  {
   "cell_type": "markdown",
   "id": "4769c728",
   "metadata": {
    "pycharm": {
     "name": "#%% md\n"
    }
   },
   "source": [
    "## 3. Eigenvector Calculation\n",
    "- The eigenvectors of the structure serve as the basis on which we calculate the HNEMA and GKMA thermal condutivities. Each eigenvector corresponds to one vibrational mode.\n",
    "- We must run a specific phonon calculation that outputs the [eigenvector.out](https://gpumd.zheyongfan.org/index.php/The_eigenvector.in_input_file) file which, with a simple name change to [eigenvector.in](https://gpumd.zheyongfan.org/index.php/The_eigenvector.in_input_file), becomes an input file for the GKMA and HNEMA calculations."
   ]
  },
  {
   "cell_type": "markdown",
   "id": "a397e225",
   "metadata": {
    "pycharm": {
     "name": "#%% md\n"
    }
   },
   "source": [
    "### Add Basis and $k$-Points\n",
    "- To calculate the eigenvectors of the system, we need to first run a phonon calculation. The modal analysis methods treat the entire structure as a unit cell, so each atom gets a unique basis ID in the [basis.in](https://gpumd.zheyongfan.org/index.php/The_basis.in_input_file) file and only one $k$-point is required in the [kpoints.in](https://gpumd.zheyongfan.org/index.php/The_kpoints.in_input_file) file."
   ]
  },
  {
   "cell_type": "code",
   "execution_count": 4,
   "id": "abbccb89",
   "metadata": {
    "pycharm": {
     "name": "#%%\n"
    }
   },
   "outputs": [],
   "source": [
    "hbn.add_basis()\n",
    "hbn.write_basis(directory=eigen_dir)\n",
    "linear_path, sym_points, labels = hbn.write_kpoints(path='G',npoints=1, directory=eigen_dir)"
   ]
  },
  {
   "cell_type": "markdown",
   "id": "c8788db5",
   "metadata": {
    "pycharm": {
     "name": "#%% md\n"
    }
   },
   "source": [
    "- The first few lines of the <code>basis.in</code> file will look like:\n",
    "```\n",
    "3840\n",
    "0 10.81\n",
    "1 14.007\n",
    "2 10.81\n",
    "3 14.007\n",
    "...\n",
    "```\n",
    "and the entirety of the <code>kpoints.in</code> file will look like:\n",
    "```\n",
    "1\n",
    "0 0 0\n",
    "```\n",
    "To run the GKMA and HNEMA simulations, it is essential that the <code>basis.in</code> and <code>kpoints.in</code> files are formatted this way. Specifically, the single $k$-point at the $\\Gamma$-point tells GPUMD to generate the [eigenvector.out](https://gpumd.zheyongfan.org/index.php/The_eigenvector.in_input_file) file, which is a required input to GKMA and HNEMA calculations."
   ]
  },
  {
   "cell_type": "markdown",
   "id": "4c16e7f7",
   "metadata": {
    "pycharm": {
     "name": "#%% md\n"
    }
   },
   "source": [
    "### The <code>run.in</code> file\n",
    "The [gpyumd](https://github.com/AlexGabourie/gpyumd) package can be used to generate valid <code>run.in</code> input files as well as other necessary input files. It follows the definitions described in the [inputs and outputs](https://gpumd.zheyongfan.org/index.php/Main_Page#Inputs_and_outputs_for_GPUMD) documentation for <code>GPUMD</code>.\n",
    "- Note that the simulation files will be generated in or moved to the 'eigenvector' folder as defined in the `eig_sim` Simulation object. "
   ]
  },
  {
   "cell_type": "code",
   "execution_count": 5,
   "id": "e4e9b8d5",
   "metadata": {
    "collapsed": false,
    "jupyter": {
     "outputs_hidden": false
    },
    "pycharm": {
     "name": "#%%\n"
    }
   },
   "outputs": [],
   "source": [
    "eig_sim = Simulation(hbn, driver_directory='.', run_directory=eigen_dir)\n",
    "eig_sim.add_static_calc(kwd.Minimize(force_tolerance=1e-8, max_iterations=10000))\n",
    "eig_sim.add_static_calc(kwd.ComputePhonon(cutoff=4, displacement=0.005))\n",
    "potential_directory = \"/path/to/GPUMD/potentials/tersoff\"\n",
    "tersoff_potential = \\\n",
    "    kwd.Potential(filename='BN_Sevik_2011.txt', symbols=['B'], directory=potential_directory)\n",
    "eig_sim.add_potential(tersoff_potential)\n",
    "eig_sim.create_simulation(copy_potentials=True)"
   ]
  },
  {
   "cell_type": "markdown",
   "id": "7478b3aa",
   "metadata": {
    "pycharm": {
     "name": "#%% md\n"
    }
   },
   "source": [
    "The <code>run.in</code> input file is given below:\n",
    "```\n",
    "potential eigenvector/BN_Sevik_2011.txt 0\n",
    "\n",
    "minimize sd 1e-08 10000\n",
    "compute_phonon 4 0.005\n",
    "```\n",
    "- The first line with the [potential](https://gpumd.zheyongfan.org/index.php/The_potential_keyword) keyword states that the potential to be used is specified in the file [BN_Sevik_2011.txt](https://github.com/brucefan1983/GPUMD/blob/master/potentials/tersoff/BN_Sevik_2011.txt).\n",
    "- The second line with the [minimize](https://gpumd.zheyongfan.org/index.php/The_minimize_keyword) keyword states that the energy of the system will be minimized using the steepest descent algorithm until either the forces are smaller than 1.0e-8 ev/$\\mathring A$ or 10000 minimization steps have been completed.\n",
    "- The third line with the [compute_phonon](https://gpumd.zheyongfan.org/index.php/The_compute_phonon_keyword) keyword tells that the force constants will be calculated with a cutoff of 4.0 $\\mathring A$ (here the point is that first and second nearest neighbors need to be included) and a displacement of 0.005 $\\mathring A$ will be used in the finite-displacement method."
   ]
  },
  {
   "cell_type": "markdown",
   "id": "c6e6efad",
   "metadata": {
    "pycharm": {
     "name": "#%% md\n"
    }
   },
   "source": [
    "### The <code>eigenvector.in</code> file\n",
    "- With the $\\Gamma$-point phonon calculation, GPUMD will output the [eigenvector.out](https://gpumd.zheyongfan.org/index.php/The_eigenvector.in_input_file) file. As all input files to GPUMD have the file type <code>.in</code>, a simple file type change to <code>.in</code> is all that is needed to prepare it for an HNEMA and GKMA calculation.\n",
    "- We can explore the vibrational modes of the system using the <code>load_frequency_info</code> function from [gpyumd](https://github.com/AlexGabourie/gpyumd). This will help us choose which vibrational mode binning options we want in the GKMA and HNEMA calculations."
   ]
  },
  {
   "cell_type": "code",
   "execution_count": 6,
   "id": "82c9a8bc",
   "metadata": {
    "collapsed": false,
    "jupyter": {
     "outputs_hidden": false
    },
    "pycharm": {
     "name": "#%%\n"
    }
   },
   "outputs": [
    {
     "data": {
      "text/plain": [
       "dict_keys(['fq', 'fmax', 'fmin', 'shift', 'nbins', 'bin_count', 'bin_f_size'])"
      ]
     },
     "execution_count": 6,
     "metadata": {},
     "output_type": "execute_result"
    }
   ],
   "source": [
    "freq = load_frequency_info(num_atoms=len(hbn), bin_f_size=1, directory=eigen_dir)\n",
    "freq.keys()"
   ]
  },
  {
   "cell_type": "code",
   "execution_count": 7,
   "id": "bb15eaa6",
   "metadata": {
    "collapsed": false,
    "jupyter": {
     "outputs_hidden": false
    },
    "pycharm": {
     "name": "#%%\n"
    }
   },
   "outputs": [
    {
     "data": {
      "image/png": "[encoded data removed]",
      "text/plain": [
       "<Figure size 720x360 with 1 Axes>"
      ]
     },
     "metadata": {
      "needs_background": "light"
     },
     "output_type": "display_data"
    }
   ],
   "source": [
    "flow = freq['fmin'] + freq['bin_f_size']/2\n",
    "fhigh = freq['fmax']-freq['bin_f_size']/2\n",
    "\n",
    "plt.figure(figsize=(10,5))\n",
    "counts, bins, bars = plt.hist(abs(freq['fq']), freq['nbins'], range=(freq['fmin'], freq['fmax']),edgecolor='k', color='C2')\n",
    "set_fig_properties([plt.gca()])\n",
    "plt.ylabel('Count of Modes')\n",
    "plt.xlabel('Frequency (THz)')\n",
    "plt.xlim([0, freq['nbins']])\n",
    "plt.tight_layout()\n",
    "plt.show()"
   ]
  },
  {
   "cell_type": "markdown",
   "id": "493fdbfe",
   "metadata": {
    "pycharm": {
     "name": "#%% md\n"
    }
   },
   "source": [
    "Histogram of the count of vibrational frequencies from lattice dynamics (LD) calculations for hBN."
   ]
  },
  {
   "cell_type": "markdown",
   "id": "bc9ad4ea",
   "metadata": {
    "pycharm": {
     "name": "#%% md\n"
    }
   },
   "source": [
    "- The figure above gathers the vibrational modes of the hBN into bins that are 1 THz wide. While not shown here, this distribution should correspond nicely with a [VDOS](https://gpumd.zheyongfan.org/index.php/The_compute_dos_keyword) calculation [[Gabourie 2021]](https://journals.aps.org/prb/abstract/10.1103/PhysRevB.103.205421).\n",
    "- The bins shown here also correspond to how GPUMD will bin the eigenvectors for the GKMA and HNEMA calculations if using the <code>f_bin_size</code> option. The thermal conductivity will be binned the same as well. This means that, for example, in the 0 THz to 1 THz range, there will be 143 modal thermal conductivity calculations that contribute to the bar in that frequency range of the histogram.\n",
    "- While the HNEMA and GKMA calculations consider each eigenvector (vibrational mode) individually, binning the vibrational modes together can drastically reduce the number of simulations required to converge the spectral thermal conductivity; however, the user is trading-off the speed and resolution and must find a balance that works for them. We find 51 bins to provide enough spectral information for our purposes here.\n",
    "- Note, for GKMA, binning will also significantly reduce output file sizes.\n"
   ]
  },
  {
   "cell_type": "markdown",
   "id": "30b776e3",
   "metadata": {
    "pycharm": {
     "name": "#%% md\n"
    }
   },
   "source": [
    "## 4. HNEMA Simulation\n",
    "- The setup for an HNEMA simulation [[Gabourie 2021]](https://journals.aps.org/prb/abstract/10.1103/PhysRevB.103.205421) is almost identical to that of an HNEMD simulation [[Fan 2019]](https://doi.org/10.1103/PhysRevB.99.064308). In fact, the [compute_hnemd](https://gpumd.zheyongfan.org/index.php/The_compute_hnemd_keyword) keyword can be run at the same time as the [compute_hnema](https://gpumd.zheyongfan.org/index.php/The_compute_hnema_keyword).\n",
    "\n",
    "### The <code>run.in</code> file"
   ]
  },
  {
   "cell_type": "code",
   "execution_count": 8,
   "id": "76314c4c",
   "metadata": {},
   "outputs": [],
   "source": [
    "# Variables we use for the simulation & processing\n",
    "hnema_num_steps = 1e7\n",
    "ydrive_force = 1e-5\n",
    "hnema_output_interval = 1e4"
   ]
  },
  {
   "cell_type": "code",
   "execution_count": 9,
   "id": "c397264b",
   "metadata": {},
   "outputs": [],
   "source": [
    "hnema_sim = Simulation(hbn, driver_directory='.', run_directory=hnema_dir)\n",
    "hnema_sim.add_static_calc(kwd.Minimize(force_tolerance=1e-8, max_iterations=1e4))"
   ]
  },
  {
   "cell_type": "code",
   "execution_count": 10,
   "id": "781cd768",
   "metadata": {},
   "outputs": [],
   "source": [
    "# equilibration simulation\n",
    "header = \"Heat Step (100 ps)\"\n",
    "curr_run = hnema_sim.add_run(number_of_steps=1e5, run_name='equilibration', run_header=header)\n",
    "\n",
    "nvt_ensemble = kwd.Ensemble(ensemble_method='nvt_nhc')\n",
    "nvt_ensemble.set_nvt_parameters(initial_temperature=300, final_temperature=300, thermostat_coupling=200)\n",
    "\n",
    "keywords = [\n",
    "    kwd.Velocity(initial_temperature=300),\n",
    "    kwd.TimeStep(dt_in_fs=1),\n",
    "    nvt_ensemble,\n",
    "    kwd.NeighborOff(),\n",
    "    kwd.DumpThermo(1e4)\n",
    "]\n",
    "\n",
    "for keyword in keywords:\n",
    "    curr_run.add_keyword(keyword)"
   ]
  },
  {
   "cell_type": "code",
   "execution_count": 11,
   "id": "cd128d55",
   "metadata": {},
   "outputs": [],
   "source": [
    "# production simulation\n",
    "header = \"HNEMA Step (10 ns)\"\n",
    "curr_run = hnema_sim.add_run(number_of_steps=hnema_num_steps, run_name='production', run_header=header)\n",
    "\n",
    "nvt_ensemble = kwd.Ensemble(ensemble_method='nvt_nhc')\n",
    "nvt_ensemble.set_nvt_parameters(initial_temperature=300, final_temperature=300, thermostat_coupling=200)\n",
    "\n",
    "keywords = [\n",
    "    nvt_ensemble,\n",
    "    kwd.NeighborOff(),\n",
    "    kwd.DumpThermo(10000),\n",
    "    kwd.ComputeHNEMD(output_interval=10000, driving_force_y=ydrive_force),\n",
    "    kwd.ComputeHNEMA(sample_interval=8, output_interval=hnema_output_interval, first_mode=1, last_mode=len(hbn)*3,\n",
    "                     bin_option='f_bin_size', size=1, driving_force_y=ydrive_force),\n",
    "    kwd.ComputeSHC(sample_interval=2, num_corr_steps=250, transport_direction='y', num_omega=1000, max_omega=400),\n",
    "]\n",
    "\n",
    "for keyword in keywords:\n",
    "    curr_run.add_keyword(keyword)"
   ]
  },
  {
   "cell_type": "code",
   "execution_count": 12,
   "id": "5331f0fd",
   "metadata": {
    "pycharm": {
     "name": "#%%\n"
    }
   },
   "outputs": [],
   "source": [
    "potential_directory = \"/path/to/GPUMD/potentials/tersoff\"\n",
    "tersoff_potential = \\\n",
    "    kwd.Potential(filename='BN_Sevik_2011.txt', symbols=['B'], directory=potential_directory)\n",
    "hnema_sim.add_potential(tersoff_potential)"
   ]
  },
  {
   "cell_type": "code",
   "execution_count": 13,
   "id": "e85df4c4",
   "metadata": {
    "collapsed": false,
    "jupyter": {
     "outputs_hidden": false
    },
    "pycharm": {
     "name": "#%%\n"
    }
   },
   "outputs": [],
   "source": [
    "hnema_sim.create_simulation(copy_potentials=True)"
   ]
  },
  {
   "cell_type": "markdown",
   "id": "7bcb99fc",
   "metadata": {
    "pycharm": {
     "name": "#%% md\n"
    }
   },
   "source": [
    "The <code>run.in</code> input file is given below:\n",
    "```\n",
    "potential hnema/BN_Sevik_2011.txt 0\n",
    "\n",
    "minimize sd 1e-08 10000\n",
    "\n",
    "# Heat Step (100 ps)\n",
    "velocity 300\n",
    "time_step 1\n",
    "ensemble nvt_nhc 300 300 200\n",
    "neighbor off\n",
    "dump_thermo 10000\n",
    "run 100000\n",
    "\n",
    "# HNEMA Step (10 ns)\n",
    "ensemble nvt_nhc 300 300 200\n",
    "neighbor off\n",
    "dump_thermo 10000\n",
    "compute_hnemd 10000 0 1e-05 0\n",
    "compute_hnema 8 10000 0 1e-05 0 1 11520 f_bin_size 1\n",
    "compute_shc 2 250 1 1000 400\n",
    "run 10000000\n",
    "```\n",
    "- The first line uses the [potential](https://gpumd.zheyongfan.org/index.php/The_potential_keyword) keyword to define the potential to be used, which is specified in the file [BN_Sevik_2011.txt](https://github.com/brucefan1983/GPUMD/blob/master/potentials/tersoff/BN_Sevik_2011.txt).\n",
    "- The second line uses the [minimize](https://gpumd.zheyongfan.org/index.php/The_minimize_keyword) keyword to minimize the energy of the system. Technically, this keyword is not required as it does not change the size of the box, but is included to show how static calculations get added to the simulation objects.\n",
    "- The next line uses the [velocity](https://gpumd.zheyongfan.org/index.php/The_velocity_keyword) keyword and sets the velocities to be initialized with a temperature of 300 K.\n",
    "\n",
    "\n",
    "- There are two runs. The first [run](https://gpumd.zheyongfan.org/index.php/The_run_keyword) serves as the equilibration stage.\n",
    "  - Here, the NVT [ensemble](https://gpumd.zheyongfan.org/index.php/The_ensemble_keyword) (the Nose-Hoover chain thermostat) is used. The target temperature is 300 K and the thermostat coupling constant is 0.2 ps (200 time steps).\n",
    "  - The [time_step](https://gpumd.zheyongfan.org/index.php/The_time_step_keyword) for integration is 1 fs.\n",
    "  - The thermodynamic quantities will be output every 10000 steps.\n",
    "  - There are $10^5$ steps (0.1 ns) for this run.\n",
    "  \n",
    "  \n",
    "- The second [run](https://gpumd.zheyongfan.org/index.php/The_run_keyword) is for production.\n",
    "  - Here, the global temperature is controlled by the Nose-Hoover chain thermostat ([ensemble](https://gpumd.zheyongfan.org/index.php/The_ensemble_keyword)) with the same parameters as in the equilibration stage.\n",
    "  - The thermodynamic quantities will be output every 10000 steps.\n",
    "  - The [compute_hnemd](https://gpumd.zheyongfan.org/index.php/The_compute_hnemd_keyword) is used to add a driving force and compute the thermal conductivity using the HNEMD method [[Fan 2019]](https://doi.org/10.1103/PhysRevB.99.064308). Here, the conductivity data will be averaged for each 10000 steps before written out, and the driving force parameter is $10^{-5}$ A<sup>-1</sup> and is in the $y$ direction.\n",
    "  - The [compute_hnema](https://gpumd.zheyongfan.org/index.php/The_compute_hnema_keyword) is used to compute the modal thermal conductivity using the HNEMA method [[Gabourie 2021]](https://journals.aps.org/prb/abstract/10.1103/PhysRevB.103.205421). Here, the modal thermal conductivity will be calculated every 8 time steps and averaged and output every 10,000 steps. The driving force parameter is $10^{-5}$ A<sup>-1</sup> and is in the $y$ direction. Note that this driving force parameter overwrites any previous values set. The sixth and seventh parameters denote the first and last mode we want to consider in the simulation. We want to consider all modes, so we say the starting mode is the first one and the end is 11,520 because there are 3N vibrational modes in a system and N=3840 for this simulation. Finally, we denote our binning option. We choose to bin by frequency using the <code>f_bin_size</code> option and create bins that are 1 THz wide.\n",
    "  - The line with the [compute_shc](https://gpumd.zheyongfan.org/index.php/The_compute_shc_keyword) keyword is used to compute the spectral heat current (SHC). The relevant data will be sampled every 2 steps and the maximum correlation time is $250 \\times 2 \\times 1~{\\rm fs} = 500~{\\rm fs}$. The transport directions is <code>1</code> ($y$ direction). The number of frequency points is 1000 and the maximum angular frequncy is 400 THz.\n",
    "  - There are $10^7$ steps (10 ns) in the production [run](https://gpumd.zheyongfan.org/index.php/The_run_keyword). This is just an example. To get more accurate results, we suggest you use $2 \\times 10^7$ steps (20 ns) and do a several independent runs and then average the relevant data.\n",
    "\n",
    "Note: We only calculate the HNEMD and SHC thermal conductivity for comparison to the HNEMA method."
   ]
  },
  {
   "cell_type": "markdown",
   "id": "496aec1e",
   "metadata": {
    "pycharm": {
     "name": "#%% md\n"
    }
   },
   "source": [
    "### Results and Discussion\n",
    "#### Computation Time\n",
    "- The HNEMA simulation takes about ~54 minutes using a Tesla V100."
   ]
  },
  {
   "cell_type": "markdown",
   "id": "72633ac0",
   "metadata": {
    "pycharm": {
     "name": "#%% md\n"
    }
   },
   "source": [
    "#### Process HNEMD Results\n",
    " - The [kappa.out](https://gpumd.zheyongfan.org/index.php/The_kappa.out_output_file) output file is loaded and processed. We do this to validate that the HNEMA calculation is working properly. The sum of the thermal conductivity bins from the HNEMA method should add up to match the HNEMD thermal conductivity. (There will be small differences because of the different sampling frequencies.)"
   ]
  },
  {
   "cell_type": "code",
   "execution_count": 14,
   "id": "40cf1344",
   "metadata": {
    "pycharm": {
     "name": "#%%\n"
    }
   },
   "outputs": [
    {
     "data": {
      "text/plain": [
       "dict_keys(['kxi', 'kxo', 'kyi', 'kyo', 'kz'])"
      ]
     },
     "execution_count": 14,
     "metadata": {},
     "output_type": "execute_result"
    }
   ],
   "source": [
    "kappa = load_kappa(directory=hnema_dir)\n",
    "kappa.keys()"
   ]
  },
  {
   "cell_type": "code",
   "execution_count": 15,
   "id": "c7b47295",
   "metadata": {},
   "outputs": [],
   "source": [
    "hnemd_t = np.arange(1,kappa['kxi'].shape[0]+1)*0.010  # ns\n",
    "kappa['kyi_ra'] = running_ave(kappa['kyi'],hnemd_t)\n",
    "kappa['kyo_ra'] = running_ave(kappa['kyo'],hnemd_t)"
   ]
  },
  {
   "cell_type": "markdown",
   "id": "80794158",
   "metadata": {},
   "source": [
    "#### Process SHC Results\n",
    "- We will plot the SHC results with the HNEMA results, so we load and process the [shc.out](https://gpumd.zheyongfan.org/index.php/The_shc.out_output_file) output file here."
   ]
  },
  {
   "cell_type": "code",
   "execution_count": 16,
   "id": "8943651d",
   "metadata": {},
   "outputs": [
    {
     "data": {
      "text/plain": [
       "dict_keys(['t', 'Ki', 'Ko', 'nu', 'jwi', 'jwo'])"
      ]
     },
     "execution_count": 16,
     "metadata": {},
     "output_type": "execute_result"
    }
   ],
   "source": [
    "shc = load_shc(num_corr_points=250, num_omega=1000, directory=hnema_dir)['run0']\n",
    "shc.keys()"
   ]
  },
  {
   "cell_type": "code",
   "execution_count": 17,
   "id": "2e9994b8",
   "metadata": {},
   "outputs": [],
   "source": [
    "V = np.prod(hbn.cell.lengths())  # Angstroms^3\n",
    "T = 300  # K\n",
    "Fe = 1e-5  # 1/um\n",
    "calc_spectral_kappa(shc, driving_force=Fe, temperature=T, volume=V)\n",
    "shc['kw'] = shc['kwi'] + shc['kwo']  # total spectral thermal conductivity"
   ]
  },
  {
   "cell_type": "markdown",
   "id": "0392170a",
   "metadata": {
    "pycharm": {
     "name": "#%% md\n"
    }
   },
   "source": [
    "#### Plot HNEMA Results\n",
    "- We load and process the [kappamode.out](https://gpumd.zheyongfan.org/index.php/The_kappamode.out_output_file) output file with the `load_kappamode` function from [gpyumd](https://github.com/AlexGabourie/gpyumd)."
   ]
  },
  {
   "cell_type": "code",
   "execution_count": 18,
   "id": "5c2a2199",
   "metadata": {
    "pycharm": {
     "name": "#%%\n"
    }
   },
   "outputs": [
    {
     "data": {
      "text/plain": [
       "dict_keys(['kmyi', 'kmyo', 'nbins', 'nsamples'])"
      ]
     },
     "execution_count": 18,
     "metadata": {},
     "output_type": "execute_result"
    }
   ],
   "source": [
    "kappamode = load_kappamode(nbins=freq['nbins'], nsamples=int(hnema_num_steps/hnema_output_interval), directory=hnema_dir, directions='y')\n",
    "kappamode.keys()"
   ]
  },
  {
   "cell_type": "markdown",
   "id": "da3f48e7",
   "metadata": {},
   "source": [
    "- The kappamode data still represents the direct output of the HNEMA method. We can process each bin's thermal conductivity data similar to how we would the HNEMD method and take the running average. "
   ]
  },
  {
   "cell_type": "code",
   "execution_count": 19,
   "id": "effc6c1f",
   "metadata": {
    "pycharm": {
     "name": "#%%\n"
    }
   },
   "outputs": [],
   "source": [
    "hnema_shape = kappamode['kmyi'].shape\n",
    "hnema_t = np.arange(1,hnema_shape[1]+1)*0.010  # ns\n",
    "kappamode['kyi_ra'] = np.zeros(hnema_shape)\n",
    "kappamode['kyo_ra'] = np.zeros(hnema_shape)\n",
    "for mode in range(hnema_shape[0]):\n",
    "    kappamode['kyi_ra'][mode,:] = running_ave(kappamode['kmyi'][mode,:],hnema_t)\n",
    "    kappamode['kyo_ra'][mode,:] = running_ave(kappamode['kmyo'][mode,:],hnema_t)"
   ]
  },
  {
   "cell_type": "markdown",
   "id": "41c20542",
   "metadata": {},
   "source": [
    "- We plot the total running average of the thermal conductivity from the HNEMD and HNEMA methods to check for agreement."
   ]
  },
  {
   "cell_type": "code",
   "execution_count": 20,
   "id": "c08cac9c",
   "metadata": {},
   "outputs": [
    {
     "data": {
      "image/png": "[encoded data removed]",
      "text/plain": [
       "<Figure size 504x288 with 1 Axes>"
      ]
     },
     "metadata": {
      "needs_background": "light"
     },
     "output_type": "display_data"
    }
   ],
   "source": [
    "axes = list()\n",
    "plt.figure(figsize=(7,4))\n",
    "axes.append(plt.gca())\n",
    "plt.plot(hnemd_t, kappa['kyi_ra']+kappa['kyo_ra'], linewidth=10,color='C0')\n",
    "plt.plot(hnema_t, np.sum(kappamode['kyi_ra'], axis=0)+np.sum(kappamode['kyo_ra'], axis=0),color='k')\n",
    "plt.xlim([0, 10])\n",
    "plt.gca().set_xticks(range(0,11,2))\n",
    "plt.ylim([-200, 1000])\n",
    "plt.gca().set_yticks(range(-200,1001,200))\n",
    "plt.xlabel('Time (ns)')\n",
    "plt.ylabel(r'$\\kappa_{hBN}$ (Wm$^{-1}$K$^{-1}$)')\n",
    "set_fig_properties(axes)\n",
    "plt.title('HNEMD and HNEMA Thermal Conductivity')\n",
    "plt.legend(['HNEMD', 'HNEMA'], loc='lower right')\n",
    "plt.tight_layout()\n",
    "plt.show()"
   ]
  },
  {
   "cell_type": "markdown",
   "id": "13011187",
   "metadata": {},
   "source": [
    "The running average of the thermal conductivity for the HNEMD and the HNEMA (summed over all modes) versus time."
   ]
  },
  {
   "cell_type": "markdown",
   "id": "48c9101d",
   "metadata": {},
   "source": [
    "- We find good agreement between the running average of the thermal conductivity of the HNEMD method and HNEMA method. This is expected but good to check to ensure that the HNEMA method and processing is working correctly."
   ]
  },
  {
   "cell_type": "code",
   "execution_count": 21,
   "id": "86b83468",
   "metadata": {
    "pycharm": {
     "name": "#%%\n"
    }
   },
   "outputs": [
    {
     "data": {
      "image/png": "[encoded data removed]",
      "text/plain": [
       "<Figure size 576x396 with 1 Axes>"
      ]
     },
     "metadata": {
      "needs_background": "light"
     },
     "output_type": "display_data"
    }
   ],
   "source": [
    "flow = freq['fmin'] + freq['bin_f_size']/2\n",
    "fhigh = freq['fmax']-freq['bin_f_size']/2\n",
    "fax = np.linspace(flow, fhigh, freq['nbins'])\n",
    "w = 0.9*(fax[1]-fax[0])\n",
    "\n",
    "plt.figure(figsize=(8,5.5))\n",
    "set_fig_properties([plt.gca()])\n",
    "plt.bar(fax, kappamode['kyi_ra'][:,-1]+kappamode['kyo_ra'][:,-1], w, alpha=0.5)\n",
    "plt.xlim([0, freq['nbins']])\n",
    "plt.ylim([-10, 75])\n",
    "plt.gca().set_yticks([-10, 0, 25, 50, 75])\n",
    "plt.plot(shc['nu'], shc['kw'],linewidth=3)\n",
    "plt.ylabel('$\\kappa_{hBN}$ (Wm$^{-1}$K$^{-1}$)')\n",
    "plt.xlabel('Frequency (THz)')\n",
    "plt.legend(['SHC', 'HNEMA'])\n",
    "plt.title('HNEMA and SHC Spectral Thermal Conductivity')\n",
    "plt.tight_layout()\n",
    "plt.show()"
   ]
  },
  {
   "cell_type": "markdown",
   "id": "24ad4522",
   "metadata": {},
   "source": [
    "Spectral thermal conductivity of a ~10$\\times$10 nm$^2$ sheet of hBN using the SHC method (blue line) and the HNEMA method (light blue bars) for a single simulation. "
   ]
  },
  {
   "cell_type": "markdown",
   "id": "4f5e2d08",
   "metadata": {},
   "source": [
    "- Since both the HNEMA and SHC methods derive their thermal conductivity from the same induced heat current from the driving force, their results tend to look similar. As found in [[Gabourie 2021]](https://journals.aps.org/prb/abstract/10.1103/PhysRevB.103.205421), both methods converge to a final spectral thermal conductivity on similar simulation timescales, although this depends on the size of the bins chosen for the HNEMA method.\n",
    "- Negative values are OK and do not suggest that there is an error in the simulation/results. If you average over enough independent simulations, all modal thermal conductivities should be greater than or equal to 0 Wm$^{-1}$K$^{-1}$."
   ]
  },
  {
   "cell_type": "markdown",
   "id": "900936c2",
   "metadata": {},
   "source": [
    "### Kappa Comparison\n",
    "- We find good agreement for the total thermal conductivity across each of the HNEMD, SHC, and HNEMA methods."
   ]
  },
  {
   "cell_type": "code",
   "execution_count": 22,
   "id": "2f40a4fc",
   "metadata": {
    "pycharm": {
     "name": "#%%\n"
    }
   },
   "outputs": [
    {
     "name": "stdout",
     "output_type": "stream",
     "text": [
      "HNEMD:  631.88 W/m/K\n",
      "SHC:  629.45 W/m/K\n",
      "HNEMA:  631.82 W/m/K\n"
     ]
    }
   ],
   "source": [
    "print('HNEMD: ', np.round(kappa['kyi_ra'][-1]+kappa['kyo_ra'][-1],2), 'W/m/K')\n",
    "print('SHC: ', np.round(np.trapz(shc['kw'], shc['nu']),2), 'W/m/K')\n",
    "print('HNEMA: ', np.round(sum(kappamode['kyi_ra'][:,-1]+kappamode['kyo_ra'][:,-1]),2), 'W/m/K')"
   ]
  },
  {
   "cell_type": "markdown",
   "id": "a0acc2a7",
   "metadata": {
    "pycharm": {
     "name": "#%% md\n"
    }
   },
   "source": [
    "## 5. GKMA Simulation\n",
    "- The Green Kubo Modal Analysis (GKMA) method was originally proposed in [[Lv & Henry 2016]](https://iopscience.iop.org/article/10.1088/1367-2630/18/1/013028). The implementation for GPUMD was developed in [[Gabourie 2021]](https://journals.aps.org/prb/abstract/10.1103/PhysRevB.103.205421).\n",
    "- The [compute_hac](https://gpumd.zheyongfan.org/index.php/The_compute_hac_keyword) (Green-Kubo method) and the [compute_gkma](https://gpumd.zheyongfan.org/index.php/The_compute_gkma_keyword) can be run at the same time.\n",
    "\n",
    "### The <code>run.in</code> file"
   ]
  },
  {
   "cell_type": "code",
   "execution_count": 23,
   "id": "7cedefb4",
   "metadata": {},
   "outputs": [],
   "source": [
    "# Variables we use for the simulation & processing\n",
    "gkma_sample_interval = 10\n",
    "gkma_num_steps = 1e7\n",
    "num_runs = 3"
   ]
  },
  {
   "cell_type": "code",
   "execution_count": 24,
   "id": "9d53f576",
   "metadata": {
    "pycharm": {
     "name": "#%%\n"
    }
   },
   "outputs": [],
   "source": [
    "gkma_sim = Simulation(hbn, driver_directory='.', run_directory=gkma_dir)\n",
    "gkma_sim.add_static_calc(kwd.Minimize(force_tolerance=1e-8, max_iterations=1e4))"
   ]
  },
  {
   "cell_type": "code",
   "execution_count": 25,
   "id": "a49d5058",
   "metadata": {
    "pycharm": {
     "name": "#%%\n"
    }
   },
   "outputs": [],
   "source": [
    "# equilibration simulation\n",
    "header = \"Heat Step (100 ps)\"\n",
    "curr_run = gkma_sim.add_run(number_of_steps=1e5, run_name='equilibration', run_header=header)\n",
    "\n",
    "nvt_ensemble = kwd.Ensemble(ensemble_method='nvt_nhc')\n",
    "nvt_ensemble.set_nvt_parameters(initial_temperature=300, final_temperature=300, thermostat_coupling=200)\n",
    "\n",
    "keywords = [\n",
    "    kwd.Velocity(initial_temperature=300),\n",
    "    kwd.TimeStep(dt_in_fs=1),\n",
    "    nvt_ensemble,\n",
    "    kwd.NeighborOff(),\n",
    "    kwd.DumpThermo(1e4)\n",
    "]\n",
    "\n",
    "for keyword in keywords:\n",
    "    curr_run.add_keyword(keyword)"
   ]
  },
  {
   "cell_type": "code",
   "execution_count": 26,
   "id": "7bd07ca3",
   "metadata": {
    "pycharm": {
     "name": "#%%\n"
    }
   },
   "outputs": [],
   "source": [
    "# transition to nve\n",
    "header = \"NVE Transition (100 ps)\"\n",
    "curr_run = gkma_sim.add_run(number_of_steps=1e5, run_name='transition', run_header=header)\n",
    "\n",
    "nve_ensemble = kwd.Ensemble(ensemble_method='nve')\n",
    "\n",
    "keywords = [\n",
    "    nve_ensemble,\n",
    "    kwd.NeighborOff(),\n",
    "    kwd.DumpThermo(1e4)\n",
    "]\n",
    "\n",
    "for keyword in keywords:\n",
    "    curr_run.add_keyword(keyword)"
   ]
  },
  {
   "cell_type": "code",
   "execution_count": 27,
   "id": "607322c6",
   "metadata": {
    "pycharm": {
     "name": "#%%\n"
    }
   },
   "outputs": [],
   "source": [
    "# production simulation\n",
    "header = \"GKMA Step (10 ns)\"\n",
    "curr_run = gkma_sim.add_run(number_of_steps=gkma_num_steps, run_name='production', run_header=header)\n",
    "\n",
    "nve_ensemble = kwd.Ensemble(ensemble_method='nve')\n",
    "\n",
    "keywords = [\n",
    "    nve_ensemble,\n",
    "    kwd.NeighborOff(),\n",
    "    kwd.DumpThermo(1e4),\n",
    "    kwd.ComputeHAC(sample_interval=gkma_sample_interval, num_corr_steps=1e5, output_interval=1),\n",
    "    kwd.ComputeGKMA(sample_interval=10, first_mode=1, last_mode=len(hbn)*3, \\\n",
    "                    bin_option='f_bin_size', size=1)    \n",
    "]\n",
    "\n",
    "for keyword in keywords:\n",
    "    curr_run.add_keyword(keyword)"
   ]
  },
  {
   "cell_type": "code",
   "execution_count": 28,
   "id": "5a39d1c9",
   "metadata": {
    "pycharm": {
     "name": "#%%\n"
    }
   },
   "outputs": [],
   "source": [
    "potential_directory = \"/path/to/GPUMD/potentials/tersoff\"\n",
    "tersoff_potential = \\\n",
    "    kwd.Potential(filename='BN_Sevik_2011.txt', symbols=['B'], directory=potential_directory)\n",
    "gkma_sim.add_potential(tersoff_potential)"
   ]
  },
  {
   "cell_type": "code",
   "execution_count": 29,
   "id": "f5f9e574",
   "metadata": {
    "pycharm": {
     "name": "#%%\n"
    }
   },
   "outputs": [],
   "source": [
    "# Generate several different runs easilty using the gpyumd simulation object\n",
    "for run_num in range(num_runs):\n",
    "    gkma_sim.set_directory(run_directory=os.path.join(gkma_dir, f'run{run_num}'))\n",
    "    gkma_sim.create_simulation(copy_potentials=True)"
   ]
  },
  {
   "cell_type": "markdown",
   "id": "3e5bd4ac",
   "metadata": {},
   "source": [
    "- As Green-Kubo thermal conductivity calculations generally require many independent runs averaged together, we choose to run 3 independent simulations here to improve our results. Note that we can use the same Simulation object to write to many different folders to easily facilitate the setup.\n",
    "- **Note**: the `eigenvector.in` must be separately copied into each of the run directories. Since this file can be very large, we do not move/copy it automatically and leave that behavior up to the user's preferences/needs.\n",
    "\n",
    "The `run.in` input file is given below:\n",
    "```\n",
    "potential gkma/run0/BN_Sevik_2011.txt 0\n",
    "\n",
    "minimize sd 1e-08 10000 \n",
    "\n",
    "# Heat Step (100 ps)\n",
    "velocity 300 \n",
    "time_step 1 \n",
    "ensemble nvt_nhc 300 300 200 \n",
    "neighbor off \n",
    "dump_thermo 10000 \n",
    "run 100000 \n",
    "\n",
    "# NVE Transition (100 ps)\n",
    "ensemble nve \n",
    "neighbor off \n",
    "dump_thermo 10000 \n",
    "run 100000 \n",
    "\n",
    "# GKMA Step (10 ns)\n",
    "ensemble nve \n",
    "neighbor off \n",
    "dump_thermo 10000 \n",
    "compute_hac 10 100000 1 \n",
    "compute_gkma 10 1 11520 f_bin_size 1 \n",
    "run 10000000 \n",
    "```\n",
    "\n",
    "- All lines up through the first [run](https://gpumd.zheyongfan.org/index.php/The_run_keyword) are the same as in the HNEMA simulation. The first [run](https://gpumd.zheyongfan.org/index.php/The_run_keyword) is to equilibrate the system.\n",
    "\n",
    "- The second [run](https://gpumd.zheyongfan.org/index.php/The_run_keyword) serves as a transition stage, where the NVE [ensemble](https://gpumd.zheyongfan.org/index.php/The_ensemble_keyword) is used for a short 100 ps to let any effects from the thermostat dissipate. There are $10^5$ steps (100 ps) for this [run](https://gpumd.zheyongfan.org/index.php/The_run_keyword) and the thermodynamic quantities will be output every 10000 steps.\n",
    "\n",
    "- The final [run](https://gpumd.zheyongfan.org/index.php/The_run_keyword) is for production. Here, the NVE [ensemble](https://gpumd.zheyongfan.org/index.php/The_ensemble_keyword) is used. The line with the [compute_hac](https://gpumd.zheyongfan.org/index.php/The_compute_hac_keyword) keyword means that heat currents will be recorded every 10 steps (10 fs), 100000 HAC data (the maximum correlation time is then about 1 ns) will be calculated, and the HAC are averaged for every 1 data points before written out. The production time is 10 ns ($10^7$ steps), which is 10 times as long as the maximum correlation time. This is a reasonable choice. The line with the [compute_gkma](https://gpumd.zheyongfan.org/index.php/The_compute_gkma_keyword) keyword in it tells us that we want to calculate the modal heat current with the GKMA method, that the modal heat flux will be sampled every 10 steps, that the vibrational mode we will start with is the first and we will include all modes until mode 11520 (i.e., the last mode of a 3N=3$\\times$3840 atom hBN sheet), and that we want to bin by frequency with a bin size of 1 THz.\n",
    "  "
   ]
  },
  {
   "cell_type": "markdown",
   "id": "6ca4efd0",
   "metadata": {
    "pycharm": {
     "name": "#%% md\n"
    }
   },
   "source": [
    "### Results and Discussion\n",
    "\n",
    "#### Computation Time\n",
    "- The GKMA simulation takes about ~35 minutes using a Tesla V100. The GKMA simulation is faster because the method only outputs heat current (i.e., does not directly compute thermal conductivity) and the GKMA sample rate is every 10 steps instead of 8 steps used for the HNEMA method."
   ]
  },
  {
   "cell_type": "markdown",
   "id": "c135ba94",
   "metadata": {},
   "source": [
    "#### Process Green-Kubo Results\n",
    "- We load and process the results from the [hac.out](https://gpumd.zheyongfan.org/index.php/The_hac.out_output_file) output file. We do this to validate that our set of equilibrium simulations is sufficient to yield reasonable results and to ensure that our GKMA calculations are working properly by this data to the GKMA results.\n",
    "- We also choose the range of correlation times we wish to average over to get a 'converged' thermal conductivity. Based on the figure below, we chose to average over the [300 ps, 400 ps] range of correlation times. This will also be used for the GKMA analysis."
   ]
  },
  {
   "cell_type": "code",
   "execution_count": 30,
   "id": "ae429526",
   "metadata": {
    "pycharm": {
     "name": "#%%\n"
    }
   },
   "outputs": [],
   "source": [
    "tau_range = range(30000,40000)  # 300 ps to 400 ps correlation time"
   ]
  },
  {
   "cell_type": "code",
   "execution_count": 31,
   "id": "fa4baaa2",
   "metadata": {
    "pycharm": {
     "name": "#%%\n"
    }
   },
   "outputs": [],
   "source": [
    "hac_dict = dict()\n",
    "for run_num in range(num_runs):\n",
    "    hac_dict[f'run{run_num}'] = load_hac(num_corr_points=100000, output_interval=1, directory=os.path.join(gkma_dir,f\"run{run_num}\"))['run0']"
   ]
  },
  {
   "cell_type": "code",
   "execution_count": 32,
   "id": "18b596db",
   "metadata": {
    "pycharm": {
     "name": "#%%\n"
    }
   },
   "outputs": [],
   "source": [
    "# Average over each of the 3 runs\n",
    "gk_tau = hac_dict['run0']['t']\n",
    "ki_ave, ko_ave = np.zeros_like(hac_dict['run0']['kxi']), np.zeros_like(hac_dict['run0']['kxi'])\n",
    "for runkey in hac_dict.keys():\n",
    "    ki_ave += (hac_dict[runkey]['kxi']+hac_dict[runkey]['kyi'])\n",
    "    ko_ave += (hac_dict[runkey]['kxo']+hac_dict[runkey]['kyo'])\n",
    "ki_ave /= (2*len(hac_dict))\n",
    "ko_ave /= (2*len(hac_dict))\n",
    "\n",
    "kappa_gk = np.mean((ki_ave+ko_ave)[tau_range])  # Our total GK thermal conductivity "
   ]
  },
  {
   "cell_type": "markdown",
   "id": "8d941525",
   "metadata": {},
   "source": [
    "#### Plot GKMA Results\n",
    "- We load and process the [heatmode.out](https://gpumd.zheyongfan.org/index.php/The_heatmode.out_output_file) output file with the `load_heatmode` function from [gpyumd](https://github.com/AlexGabourie/gpyumd). \n",
    "- The [heatmode.out](https://gpumd.zheyongfan.org/index.php/The_heatmode.out_output_file) files can be very large and this function can take much more time and resources than others in [gpyumd](https://github.com/AlexGabourie/gpyumd). To save resources, users can choose which directions to process. Here, we use the `directions` parameter to define which data we want to keep. We have chosen $x$ and $y$ data meaning that the $z$ data is thrown out.\n",
    "- It is also useful to save the data by setting <code>save=True</code>. This will save the processed results into a numpy binary which is much more space efficient and faster to load (no text processing). Once a numpy binary is saved, the user may delete their [heatmode.out](https://gpumd.zheyongfan.org/index.php/The_heatmode.out_output_file) file.\n",
    "- Finally, we are mainly saving the data as a binary here and ask `load_heatmode` to not return the dictionary to save memory."
   ]
  },
  {
   "cell_type": "code",
   "execution_count": 33,
   "id": "09447d4a",
   "metadata": {
    "pycharm": {
     "name": "#%%\n"
    }
   },
   "outputs": [],
   "source": [
    "# Save the data to disk in binary format. Can delete heatmode.out files after.\n",
    "for run_num in range(num_runs):\n",
    "    if not os.path.exists(os.path.join(gkma_dir, f\"run{run_num}\", \"heatmode.npy\")):\n",
    "        load_heatmode(nbins=freq['nbins'], nsamples=int(gkma_num_steps/gkma_sample_interval), \\\n",
    "                      directory=os.path.join(gkma_dir, f\"run{run_num}\"), directions='xy', save=True, \\\n",
    "                      return_data=False)"
   ]
  },
  {
   "cell_type": "markdown",
   "id": "dd04bd5f",
   "metadata": {},
   "source": [
    "- The [heatmode.out](https://gpumd.zheyongfan.org/index.php/The_heatmode.out_output_file) file only has modal heat current data. We must also calculate the running modal thermal conductivity. For that, [gpyumd](https://github.com/AlexGabourie/gpyumd) has the `calc_gkma_kappa` function. This function will add the results of the calculations to the data dictionary passed to it. Here, since we know that we will average over the correlation time up to 400 ps, we choose a `max_tau` of 0.5 ns for our modal running thermal conductivity calculations. We also choose to save the data to a numpy binary like before so we do not have to repeat any processing."
   ]
  },
  {
   "cell_type": "code",
   "execution_count": 34,
   "id": "a1a6aa48",
   "metadata": {
    "pycharm": {
     "name": "#%%\n"
    }
   },
   "outputs": [],
   "source": [
    "kappa_gkma_bins = np.zeros(freq['nbins'])\n",
    "gkma_total_rtc = None\n",
    "gkma_tau = None\n",
    "\n",
    "for run_num in range(num_runs):\n",
    "    heatmode = load_saved_heatmode(directory=os.path.join(gkma_dir, f\"run{run_num}\"))\n",
    "    # Don't recalculate if already done\n",
    "    if 'tau' not in heatmode.keys():\n",
    "        calc_gkma_kappa(data=heatmode, dt=1, sample_interval=gkma_sample_interval, temperature=300, \n",
    "                        vol=np.prod(hbn.cell.lengths()), max_tau=0.5, directions='xy', save=True, \n",
    "                        directory=os.path.join(gkma_dir, f\"run{run_num}\"))\n",
    "\n",
    "    # Calculate running thermal conductivity\n",
    "    if gkma_total_rtc is None:\n",
    "        gkma_tau = heatmode['tau']\n",
    "        gkma_total_rtc = (np.sum(heatmode['kmyi'], axis=0) + np.sum(heatmode['kmyo'], axis=0) + \n",
    "         np.sum(heatmode['kmxi'], axis=0) + np.sum(heatmode['kmxo'], axis=0))/(2*num_runs)\n",
    "    else:\n",
    "        gkma_total_rtc += (np.sum(heatmode['kmyi'], axis=0) + np.sum(heatmode['kmyo'], axis=0) + \n",
    "         np.sum(heatmode['kmxi'], axis=0) + np.sum(heatmode['kmxo'], axis=0))/(2*num_runs)\n",
    "    \n",
    "    # Find average thermal conductivity for a bin and take only that data from 'heatmode' object.\n",
    "    for bin_num in range(freq['nbins']):\n",
    "        kappa_gkma_bins[bin_num] += np.mean((heatmode['kmxi'][bin_num,:]+heatmode['kmyi'][bin_num,:]+  \n",
    "                                             heatmode['kmxo'][bin_num,:]+heatmode['kmyo'][bin_num,:])[tau_range])/(2*num_runs)  \n",
    "    del heatmode  # Save memory"
   ]
  },
  {
   "cell_type": "markdown",
   "id": "0db615bd",
   "metadata": {},
   "source": [
    "We delete the `heatmode` dictionary here to save memory, but, if we kept it, it would have the following keys:\n",
    "\n",
    "dict_keys(['jmxi', 'jmxo', 'jmyi', 'jmyo', 'nbins', 'nsamples', 'tau', 'jmxijx', 'jmxojx', 'kmxi', 'kmxo', 'jmyijy', 'jmyojy', 'kmyi', 'kmyo'])"
   ]
  },
  {
   "cell_type": "code",
   "execution_count": 35,
   "id": "01caf52d",
   "metadata": {},
   "outputs": [
    {
     "data": {
      "image/png": "[encoded data removed]",
      "text/plain": [
       "<Figure size 576x360 with 1 Axes>"
      ]
     },
     "metadata": {
      "needs_background": "light"
     },
     "output_type": "display_data"
    }
   ],
   "source": [
    "axes = list()\n",
    "plt.figure(figsize=(8,5))\n",
    "axes.append(plt.gca())\n",
    "plt.plot(gk_tau/1000, ki_ave + ko_ave, color='g', linewidth=10)\n",
    "plt.plot(gkma_tau, gkma_total_rtc, color='k')\n",
    "plt.xlim([0, 0.4])\n",
    "plt.gca().set_xticks(np.arange(0,401,100)/1000)\n",
    "plt.ylim([0, 800])\n",
    "plt.gca().set_yticks(range(-0,801,200))\n",
    "plt.xlabel('Correlation Time (ns)')\n",
    "plt.ylabel(r'$\\kappa_{hBN}$ (Wm$^{-1}$K$^{-1}$)')\n",
    "set_fig_properties(axes)\n",
    "plt.title('GK and GKMA Running Thermal Conductivity')\n",
    "plt.legend(['Green-Kubo', 'GKMA'], loc='lower right')\n",
    "plt.tight_layout()\n",
    "plt.show()"
   ]
  },
  {
   "cell_type": "markdown",
   "id": "b2fe6cfe",
   "metadata": {},
   "source": [
    "Averaged total running thermal conductivity as a function of correlation time for the Green-Kubo method (green line) and the GKMA method (black line)."
   ]
  },
  {
   "cell_type": "markdown",
   "id": "ec62d991",
   "metadata": {},
   "source": [
    "- For equilibrium simulations on structures that have isotropic thermal conductivity, we can combine results from different directions for better statistics. Here, we have isotropic in-plane thermal conductivity, so we average the $x$ and $y$ direction data, effectively 'doubling' the amount of data used to calculate our results.\n",
    "- We find good agreement between the running thermal conductivity of the GK method and GKMA method. This is expected but good to check to ensure that the GKMA method and processing is working correctly."
   ]
  },
  {
   "cell_type": "code",
   "execution_count": 36,
   "id": "ec13d932",
   "metadata": {
    "pycharm": {
     "name": "#%%\n"
    }
   },
   "outputs": [
    {
     "data": {
      "image/png": "[encoded data removed]",
      "text/plain": [
       "<Figure size 576x396 with 1 Axes>"
      ]
     },
     "metadata": {
      "needs_background": "light"
     },
     "output_type": "display_data"
    }
   ],
   "source": [
    "flow = freq['fmin'] + freq['bin_f_size']/2\n",
    "fhigh = freq['fmax']-freq['bin_f_size']/2\n",
    "fax = np.linspace(flow, fhigh, freq['nbins'])\n",
    "w = 0.9*(fax[1]-fax[0])\n",
    "\n",
    "plt.figure(figsize=(8,5.5))\n",
    "set_fig_properties([plt.gca()])\n",
    "plt.bar(fax, kappa_gkma_bins, w, alpha=0.5, color='g')\n",
    "plt.xlim([0, freq['nbins']])\n",
    "plt.ylim([-25, 75])\n",
    "plt.gca().set_yticks([-25, 0, 25, 50, 75])\n",
    "plt.plot(shc['nu'], shc['kw'],linewidth=3)\n",
    "plt.ylabel('$\\kappa_{hBN}$ (Wm$^{-1}$K$^{-1}$)')\n",
    "plt.xlabel('Frequency (THz)')\n",
    "plt.title('GKMA and SHC Spectral Thermal Conductivity')\n",
    "plt.legend(['SHC', 'GKMA'])\n",
    "plt.show()"
   ]
  },
  {
   "cell_type": "markdown",
   "id": "85df0db5",
   "metadata": {},
   "source": [
    "Spectral thermal conductivity of a ~10$\\times$10 nm$^2$ sheet of hBN using the SHC method (blue line) and the GKMA method (light green bars) for a single simulation. "
   ]
  },
  {
   "cell_type": "markdown",
   "id": "ed7ef82c",
   "metadata": {},
   "source": [
    "- The GKMA spectral thermal conductivity is qualitatively similar to the SHC method's but does not match as well as the HNEMA method. In general, all three methods (GKMA, HNEMA, and SHC) trend towards the same spectral thermal conductivity as the number of independent simulations increase, but the GKMA method will converge much slower and have significantly higher uncertainty [[Gabourie 2021]](https://journals.aps.org/prb/abstract/10.1103/PhysRevB.103.205421). In the figure above, it is likely (although not proven) that the SHC spectral thermal conductivity is closer to 'final' than the GKMA spectral thermal conductivity even though the GKMA method results are from 3 independent simulations (and 6$\\times$ the data as we average the $x$ and $y$ directions)."
   ]
  },
  {
   "cell_type": "markdown",
   "id": "ac2832b8",
   "metadata": {},
   "source": [
    "### Kappa Comparison\n",
    "- We find good agreement for the total thermal conductivity across each of the HNEMD, SHC, and HNEMA methods.\n",
    "- The total thermal conductivity of the GK and GKMA methods match.\n",
    "- Many more independent simulations must be run for the GKMA and HNEMA methods to converge to a final thermal conductivity. With error bars, these converged thermal conductivities are typically comparable."
   ]
  },
  {
   "cell_type": "code",
   "execution_count": 37,
   "id": "6bda6201",
   "metadata": {
    "pycharm": {
     "name": "#%%\n"
    }
   },
   "outputs": [
    {
     "name": "stdout",
     "output_type": "stream",
     "text": [
      "HNEMD:  631.88 W/m/K\n",
      "SHC:  629.45 W/m/K\n",
      "HNEMA:  631.82 W/m/K\n",
      "GK:  615.93 W/m/K\n",
      "GKMA:  616.13 W/m/K\n"
     ]
    }
   ],
   "source": [
    "print('HNEMD: ', np.round(kappa['kyi_ra'][-1]+kappa['kyo_ra'][-1],2), 'W/m/K')\n",
    "print('SHC: ', np.round(np.trapz(shc['kw'], shc['nu']),2), 'W/m/K')\n",
    "print('HNEMA: ', np.round(sum(kappamode['kyi_ra'][:,-1]+kappamode['kyo_ra'][:,-1]),2), 'W/m/K')\n",
    "print('GK: ', np.round(kappa_gk, 2),'W/m/K')\n",
    "print('GKMA: ', np.round(sum(kappa_gkma_bins),2), 'W/m/K')"
   ]
  },
  {
   "cell_type": "markdown",
   "id": "f564664b",
   "metadata": {},
   "source": [
    "## 6. References"
   ]
  },
  {
   "cell_type": "markdown",
   "id": "36a71871",
   "metadata": {},
   "source": [
    "- [Tersoff 1989] J. Tersoff, [Modeling solid-state chemistry: Interatomic potentials for multicomponent systems](https://doi.org/10.1103/PhysRevB.39.5566), Phys. Rev. B 39, 5566(R) (1989).\n",
    "- [Sevik 2011] C. Sevik, A. Kinaci, J.B. Haskins, and T. Cagin, [Characterization of thermal transport in low-dimensional boron nitride nanostructures](https://journals.aps.org/prb/abstract/10.1103/PhysRevB.84.085409), Phys. Rev. B 84, 085409 (2011).\n",
    "- [Gabourie 2021] A.J. Gabourie, Z. Fan, T. Ala-Nissila, and E. Pop [Spectral decomposition of thermal conductivity: Comparing velocity decomposition methods in homogeneous molecular dynamics simulations](https://journals.aps.org/prb/abstract/10.1103/PhysRevB.103.205421), Phys. Rev. B 103, 205421 (2021).\n",
    "- [Fan 2019] Z. Fan, H. Dong, A. Harju, and T. Ala-Nissila, [Homogeneous nonequilibrium molecular dynamics method for heat transport and spectral decomposition with many-body potentials](https://doi.org/10.1103/PhysRevB.99.064308), Phys. Rev. B **99**, 064308 (2019).\n",
    "- [Lv & Henry 2016] W. Lv and A. Henry [Direct calculation of modal contributions to thermal conductivity via Green–Kubo modal analysis](https://iopscience.iop.org/article/10.1088/1367-2630/18/1/013028), New J. Phys., 18, 013028 (2016)."
   ]
  }
 ],
 "metadata": {
  "kernelspec": {
   "display_name": "Python 3 (ipykernel)",
   "language": "python",
   "name": "python3"
  },
  "language_info": {
   "codemirror_mode": {
    "name": "ipython",
    "version": 3
   },
   "file_extension": ".py",
   "mimetype": "text/x-python",
   "name": "python",
   "nbconvert_exporter": "python",
   "pygments_lexer": "ipython3",
   "version": "3.8.12"
  }
 },
 "nbformat": 4,
 "nbformat_minor": 5
}
