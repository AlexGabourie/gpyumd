{
 "cells": [
  {
   "cell_type": "markdown",
   "id": "00df91f5",
   "metadata": {},
   "source": [
    "# NEMD Thermal Transport\n",
    "This example is originally from [GPUMD](https://github.com/brucefan1983/GPUMD) and has been added here with minor changes only to demonstrate how to use [gpyumd](https://github.com/AlexGabourie/gpyumd).\n",
    "\n",
    "## 1. Introduction\n",
    "- In this tutorial, we use the NEMD method to study heat transport in graphene at 300 K and zero pressure. Here we consider the ballistic regime. The diffusive regime can be found in the HNEMD example. The spectral decomposition method as described in [[Fan 2019]](https://doi.org/10.1103/PhysRevB.99.064308) is used here."
   ]
  },
  {
   "cell_type": "markdown",
   "id": "9fff35a6",
   "metadata": {},
   "source": [
    "### Importing Relevant Functions\n",
    "- The inputs/outputs for GPUMD are processed using the [Atomic Simulation Environment (ASE)](https://wiki.fysik.dtu.dk/ase/) and the [thermo](https://github.com/AlexGabourie/thermo) package."
   ]
  },
  {
   "cell_type": "code",
   "execution_count": 1,
   "id": "df387520",
   "metadata": {},
   "outputs": [],
   "source": [
    "import matplotlib.pyplot as plt\n",
    "import numpy as np\n",
    "from gpyumd.atoms import GpumdAtoms\n",
    "from gpyumd.load import load_shc, load_compute\n",
    "from ase.build import graphene_nanoribbon\n",
    "from gpyumd.sim import Simulation\n",
    "import gpyumd.keyword as kwd"
   ]
  },
  {
   "cell_type": "markdown",
   "id": "06529be7",
   "metadata": {},
   "source": [
    "## 2. Preparing the Inputs\n",
    "- We consider a graphene sheet of size of about 25 nm x 43 nm (40400 atoms). The transport is in the $y$ direction. We divide the length in the $y$ direction into 9 groups. Group 0 (a small one) will be fixed. Group 1 (about 9 nm long) will act as a heat source and group 8 (about 9 nm long) will act as a sink. The remaining middle part is evenly divided into a few groups (group 2 to group 7).\n",
    "- We use a Tersoff potential [[Tersoff 1989]](https://doi.org/10.1103/PhysRevB.39.5566) parameterized by Lindsay *et al.* [[Lindsay 2010]](https://journals.aps.org/prb/abstract/10.1103/PhysRevB.81.205441)."
   ]
  },
  {
   "cell_type": "code",
   "execution_count": 2,
   "id": "43617db7",
   "metadata": {},
   "outputs": [
    {
     "data": {
      "text/plain": [
       "GpumdAtoms(symbols='C40400', pbc=[True, True, False], cell=[249.41531628991828, 436.32000000000005, 3.35])"
      ]
     },
     "execution_count": 2,
     "metadata": {},
     "output_type": "execute_result"
    }
   ],
   "source": [
    "gnr = GpumdAtoms(graphene_nanoribbon(100, 101, type='armchair', sheet=True, vacuum=3.35/2, C_C=1.44))\n",
    "gnr.euler_rotate(theta=90)\n",
    "lx, lz, ly = gnr.cell.lengths()\n",
    "gnr.cell = gnr.cell.new((lx, ly, lz))\n",
    "gnr.center()\n",
    "gnr.pbc = [True, True, False]\n",
    "gnr.set_cutoff(2.1)\n",
    "gnr.set_max_neighbors(3)\n",
    "gnr"
   ]
  },
  {
   "cell_type": "markdown",
   "id": "bad8e91e",
   "metadata": {},
   "source": [
    "### Add groups for NEMD"
   ]
  },
  {
   "cell_type": "code",
   "execution_count": 3,
   "id": "391534de",
   "metadata": {},
   "outputs": [
    {
     "name": "stdout",
     "output_type": "stream",
     "text": [
      "y-direction boundaries: [0, 3.96, 90.83, 134.06, 177.29, 220.52, 263.76, 306.99, 350.22, 436.32]\n"
     ]
    }
   ],
   "source": [
    "split = np.array([ly/100] + [ly/5] + [ly/10]*6)-0.4\n",
    "split = [0] + list(np.cumsum(split)) + [ly]\n",
    "print(\"y-direction boundaries:\", [round(x,2) for x in split])"
   ]
  },
  {
   "cell_type": "code",
   "execution_count": 4,
   "id": "ca431a90",
   "metadata": {},
   "outputs": [
    {
     "data": {
      "text/plain": [
       "array([ 400, 8000, 4000, 4000, 4000, 4000, 4000, 4000, 8000])"
      ]
     },
     "execution_count": 4,
     "metadata": {},
     "output_type": "execute_result"
    }
   ],
   "source": [
    "group_method, ncounts = gnr.group_by_position(split, direction='y')\n",
    "ncounts"
   ]
  },
  {
   "cell_type": "code",
   "execution_count": 5,
   "id": "bf0ad85e",
   "metadata": {},
   "outputs": [],
   "source": [
    "gnr.sort_atoms(sort_key='group', group_method=group_method, order=list(range(len(ncounts))))"
   ]
  },
  {
   "cell_type": "markdown",
   "id": "e524c337",
   "metadata": {},
   "source": [
    "### The <code>run.in</code> file:\n",
    "The [gpyumd](https://github.com/AlexGabourie/gpyumd) package can be used to generate valid <code>run.in</code> input files as well as other necessary input files. It follows the definitions described in the [inputs and outputs](https://gpumd.zheyongfan.org/index.php/Main_Page#Inputs_and_outputs_for_GPUMD) documentation for <code>GPUMD</code>."
   ]
  },
  {
   "cell_type": "code",
   "execution_count": 6,
   "id": "13fbbe17",
   "metadata": {},
   "outputs": [],
   "source": [
    "nemd_sim = Simulation(gnr, driver_directory='.')"
   ]
  },
  {
   "cell_type": "code",
   "execution_count": 7,
   "id": "32d7ecb2",
   "metadata": {},
   "outputs": [],
   "source": [
    "# Equilibration run\n",
    "header_comment = \"Equilibration\"\n",
    "curr_run = nemd_sim.add_run(number_of_steps=1e5, run_name='equilibration', run_header=header_comment)\n",
    "\n",
    "# Create ensemble for the equilibration\n",
    "npt_condition = 'orthogonal'\n",
    "pdict = kwd.Ensemble.get_npt_pdict(condition=npt_condition)\n",
    "pdict['p_xx'], pdict['p_yy'], pdict['p_zz'] = [0]*3  # GPa\n",
    "pdict['C_xx'], pdict['C_yy'], pdict['C_zz'] = [53.4059]*3  # GPa\n",
    "\n",
    "npt_ensemble = kwd.Ensemble(ensemble_method='npt_ber')\n",
    "npt_ensemble.set_npt_parameters(initial_temperature=300, final_temperature=300, thermostat_coupling=100, \n",
    "                                barostat_coupling=2000, condition=npt_condition, pdict=pdict)\n",
    "\n",
    "keywords = [\n",
    "    kwd.Velocity(initial_temperature=300),\n",
    "    kwd.Fix(group_id=0),\n",
    "    npt_ensemble,\n",
    "    kwd.TimeStep(dt_in_fs=1),\n",
    "    kwd.NeighborOff(),\n",
    "    kwd.DumpThermo(1000)\n",
    "]\n",
    "\n",
    "for keyword in keywords:\n",
    "    curr_run.add_keyword(keyword)"
   ]
  },
  {
   "cell_type": "code",
   "execution_count": 8,
   "id": "03725cda",
   "metadata": {},
   "outputs": [],
   "source": [
    "# Equilibration run\n",
    "curr_run = nemd_sim.add_run(number_of_steps=1e6, run_name='nemd')\n",
    "\n",
    "# Create ensemble for the equilibration\n",
    "heat_ensemble = kwd.Ensemble(ensemble_method='heat_lan')\n",
    "heat_ensemble.set_heat_parameters(temperature=300, thermostat_coupling=100, temperature_delta=10, \n",
    "                                  source_group_id=1, sink_group_id=8)\n",
    "\n",
    "keywords = [\n",
    "    kwd.Fix(group_id=0),\n",
    "    heat_ensemble,\n",
    "    kwd.NeighborOff(),\n",
    "    kwd.Compute(grouping_method=group_method, sample_interval=10, output_interval=100, temperature=True),\n",
    "    kwd.ComputeSHC(sample_interval=2, num_corr_steps=250, transport_direction='y', \\\n",
    "                   num_omega=1000, max_omega=400.0, grouping_method=group_method, group_id=4),\n",
    "]\n",
    "\n",
    "for keyword in keywords:\n",
    "    curr_run.add_keyword(keyword)"
   ]
  },
  {
   "cell_type": "code",
   "execution_count": 9,
   "id": "1f084616",
   "metadata": {},
   "outputs": [],
   "source": [
    "potential_directory = \"/path/to/GPUMD/potentials/tersoff\"\n",
    "tersoff_potential = \\\n",
    "    kwd.Potential(filename='Graphene_Lindsay_2010_modified.txt', symbols=['C'], directory=potential_directory)\n",
    "nemd_sim.add_potential(tersoff_potential)"
   ]
  },
  {
   "cell_type": "code",
   "execution_count": 10,
   "id": "5c0376cf",
   "metadata": {},
   "outputs": [],
   "source": [
    "nemd_sim.create_simulation(copy_potentials=True)"
   ]
  },
  {
   "cell_type": "markdown",
   "id": "6b2e155d",
   "metadata": {},
   "source": [
    "The <code>run.in</code> input file is given below:<br>\n",
    "```\n",
    "potential Graphene_Lindsay_2010_modified.txt 0\n",
    "\n",
    "# Equilibration\n",
    "time_step 1 \n",
    "velocity 300 \n",
    "fix 0 \n",
    "ensemble npt_ber 300 300 100 0 0 0 53.4059 53.4059 53.4059 2000 \n",
    "neighbor off \n",
    "dump_thermo 1000 \n",
    "run 100000 \n",
    "\n",
    "fix 0 \n",
    "ensemble heat_lan 300 100 10 1 8 \n",
    "neighbor off \n",
    "compute 0 10 100 temperature \n",
    "compute_shc 2 250 1 1000 400.0 group 0 4\n",
    "run 1000000 \n",
    "```\n",
    "\n",
    "- The first line uses the [potential](https://gpumd.zheyongfan.org/index.php/The_potential_keyword) keyword to define the potential to be used, which is specified in the file [Graphene_Lindsay_2010_modified.txt](https://github.com/brucefan1983/GPUMD/blob/master/potentials/tersoff/Graphene_Lindsay_2010_modified.txt).\n",
    "\n",
    "- The second line uses the [velocity](https://gpumd.zheyongfan.org/index.php/The_velocity_keyword) keyword and sets the velocities to be initialized with a temperature of 300 K. \n",
    "\n",
    "- There are two runs. The first [run](https://gpumd.zheyongfan.org/index.php/The_run_keyword) serves as the equilibration stage.\n",
    "  - Here, the NVT [ensemble](https://gpumd.zheyongfan.org/index.php/The_ensemble_keyword) (the Berendsen thermostat) is used. The target temperature is 300 K and the coupling constant is 100 time steps for the thermostat. \n",
    "  - The [time_step](https://gpumd.zheyongfan.org/index.php/The_time_step_keyword) for integration is 1 fs. \n",
    "  - Atoms in group 0 will be fixed. \n",
    "  - The thermodynamic quantities will be output every 1000 steps. \n",
    "  - There are $10^5$ steps (100 ps) for this run. \n",
    "- The second [run](https://gpumd.zheyongfan.org/index.php/The_run_keyword) is for production. \n",
    "  - Here, two local Langevin thermostats ([ensemble](https://gpumd.zheyongfan.org/index.php/The_ensemble_keyword)) are applied to generate a nonequilibrium heat current. The time parameter in the Langevin thermostats is 0.1 ps (100 time steps). The target temperature of the heat source is $300+10=310$ K and the target temperature of the heat sink is $300-10=290$ K. Atoms in group 1 are in the heat source region and atoms in group 8 are in the heat sink region.\n",
    "  - Atoms in group 0 will be fixed. \n",
    "  - The [compute](https://gpumd.zheyongfan.org/index.php/The_compute_keyword) is used to compute the group temperatures and energy transfer rate. Here, grouping method 0 is used, and the relevant data are sampled every 10 time steps and averaged for every 100 data points before written out. \n",
    "  - The line with the [compute_shc](https://gpumd.zheyongfan.org/index.php/The_compute_shc_keyword) keyword is used to compute the spectral heat current (SHC). The SHC will be calculated for group <code>4</code> in grouping method <code>0</code>. The relevant data will be sampled every 2 steps and the maximum correlation time is $250 \\times 2 \\times 1~{\\rm fs} = 500~{\\rm fs}$. The transport directions is <code>1</code> ($y$ direction). The number of frequency points is 1000 and the maximum angular frequncy is 400 THz.\n",
    "  - There are $10^6$ steps (1 ns) in the production [run](https://gpumd.zheyongfan.org/index.php/The_run_keyword). This is just an example. To get more accurate results, we suggest you use $10^7$ steps (10 ns)."
   ]
  },
  {
   "cell_type": "markdown",
   "id": "e3a41464",
   "metadata": {},
   "source": [
    "## 3. Results and Discussion\n",
    "### Computation Time\n",
    "- The NEMD simulation takes about 20 minutes on a mobile GeForce RTX 2070 GPU and ~4 minuts on a Tesla V100."
   ]
  },
  {
   "cell_type": "markdown",
   "id": "73042935",
   "metadata": {},
   "source": [
    "### Figure Properties"
   ]
  },
  {
   "cell_type": "code",
   "execution_count": 11,
   "id": "b89e4cdf",
   "metadata": {},
   "outputs": [],
   "source": [
    "aw = 2\n",
    "fs = 16\n",
    "font = {'size'   : fs}\n",
    "plt.rc('font', **font)\n",
    "plt.rc('axes' , linewidth=aw)\n",
    "\n",
    "def set_fig_properties(ax_list):\n",
    "    ax_list = ax_list if isinstance(ax_list, list) else [ax_list]\n",
    "    tl = 8\n",
    "    tw = 2\n",
    "    tlm = 4\n",
    "    \n",
    "    for ax in ax_list:\n",
    "        ax.tick_params(which='major', length=tl, width=tw)\n",
    "        ax.tick_params(which='minor', length=tlm, width=tw)\n",
    "        ax.tick_params(which='both', axis='both', direction='in', right=True, top=True)"
   ]
  },
  {
   "cell_type": "markdown",
   "id": "681fef6e",
   "metadata": {},
   "source": [
    "### Plot NEMD Results\n",
    " - The [compute.out](https://gpumd.zheyongfan.org/index.php/The_compute_keyword) output file is loaded and processed to create the following figure."
   ]
  },
  {
   "cell_type": "code",
   "execution_count": 12,
   "id": "26a15274",
   "metadata": {},
   "outputs": [
    {
     "data": {
      "text/plain": [
       "dict_keys(['Ein', 'Eout', 'm', 'temperature'])"
      ]
     },
     "execution_count": 12,
     "metadata": {},
     "output_type": "execute_result"
    }
   ],
   "source": [
    "compute = load_compute(['temperature'])\n",
    "compute.keys()"
   ]
  },
  {
   "cell_type": "code",
   "execution_count": 13,
   "id": "e5cfa7c4",
   "metadata": {},
   "outputs": [],
   "source": [
    "T = compute['temperature']\n",
    "Ein = compute['Ein']\n",
    "Eout = compute['Eout']\n",
    "ndata = T.shape[0]\n",
    "temp_ave = np.mean(T[int(ndata/2)+1:, 1:], axis=0)\n",
    "\n",
    "dt = 0.001  # ps \n",
    "Ns = 1000  # Sample interval\n",
    "t = dt*np.arange(1,ndata+1) * Ns/1000  # ns"
   ]
  },
  {
   "cell_type": "code",
   "execution_count": 14,
   "id": "832ee160",
   "metadata": {},
   "outputs": [
    {
     "data": {
      "image/png": "[encoded data removed]",
      "text/plain": [
       "<Figure size 720x360 with 2 Axes>"
      ]
     },
     "metadata": {
      "needs_background": "light"
     },
     "output_type": "display_data"
    }
   ],
   "source": [
    "axes = list()\n",
    "\n",
    "plt.figure(figsize=(10,5))\n",
    "plt.subplot(1,2,1)\n",
    "axes.append(plt.gca())\n",
    "group_idx = range(1,9)\n",
    "plt.plot(group_idx, temp_ave,linewidth=3,marker='o',markersize=10)\n",
    "plt.xlim([1, 8])\n",
    "plt.gca().set_xticks(group_idx)\n",
    "plt.ylim([290, 310])\n",
    "plt.gca().set_yticks(range(290,311,5))\n",
    "plt.xlabel('group index')\n",
    "plt.ylabel('T (K)')\n",
    "plt.title('(a)')\n",
    "\n",
    "plt.subplot(1,2,2)\n",
    "axes.append(plt.gca())\n",
    "plt.plot(t, Ein/1000, 'C3', linewidth=3)\n",
    "plt.plot(t, Eout/1000, 'C0', linewidth=3, linestyle='--' )\n",
    "plt.xlim([0, 1])\n",
    "plt.gca().set_xticks(np.linspace(0,1,6))\n",
    "plt.ylim([-10, 10])\n",
    "plt.gca().set_yticks(range(-10,11,5))\n",
    "plt.xlabel('t (ns)')\n",
    "plt.ylabel('Heat (keV)')\n",
    "plt.title('(b)')\n",
    "\n",
    "set_fig_properties(axes)\n",
    "plt.tight_layout()\n",
    "plt.show()"
   ]
  },
  {
   "cell_type": "markdown",
   "id": "e779f726",
   "metadata": {},
   "source": [
    "**(a)** Temperature profile in the NEMD simulation. **(b)** Energies accumulated in the thermostats."
   ]
  },
  {
   "cell_type": "markdown",
   "id": "25941805",
   "metadata": {},
   "source": [
    "- The figure above shows the temperature profile and the energies accumulated in the thermostats. The energy of the thermostat coupling to the heat source region is decreasing, because energy is transferred from the thermostat to the atoms in the source region. The energy of the thermostat coupling to the heat sink region is increasing, because energy is transferred from the atoms in the sink region to the thermostat. The absolute values of the slopes of the lines in **(b)** should be the same; otherwise it means energy is not conserved. The absolute slope is the energy transfer rate $Q=dE/dt$.\n",
    "- The thermal conductance in this system can be calculated as\n",
    "$$\n",
    "G = \\frac{Q/S}{\\Delta T}\n",
    "$$\n",
    "where $S$ is the cross-sectional area and $\\Delta T$ is the temperature difference, which is 19 K here (slightly smaller than the target value of 20 K). The calculated thermal conductance is about 10 GW m<sup>-2</sup> K<sup>-1</sup>. This is the classical value."
   ]
  },
  {
   "cell_type": "code",
   "execution_count": 15,
   "id": "c51891f6",
   "metadata": {},
   "outputs": [
    {
     "data": {
      "text/plain": [
       "19.09111102204406"
      ]
     },
     "execution_count": 15,
     "metadata": {},
     "output_type": "execute_result"
    }
   ],
   "source": [
    "deltaT = temp_ave[0] - temp_ave[-1]  # [K]\n",
    "deltaT"
   ]
  },
  {
   "cell_type": "code",
   "execution_count": 16,
   "id": "ea925964",
   "metadata": {},
   "outputs": [
    {
     "data": {
      "text/plain": [
       "9.420485999999999"
      ]
     },
     "execution_count": 16,
     "metadata": {},
     "output_type": "execute_result"
    }
   ],
   "source": [
    "Q1 = (Ein[int(ndata/2)] - Ein[-1])/(ndata/2)/dt/Ns\n",
    "Q2 = (Eout[-1] - Eout[int(ndata/2)])/(ndata/2)/dt/Ns\n",
    "Q = np.mean([Q1, Q1])  # [eV/ps]\n",
    "Q"
   ]
  },
  {
   "cell_type": "code",
   "execution_count": 17,
   "id": "b8625d6e",
   "metadata": {},
   "outputs": [
    {
     "data": {
      "text/plain": [
       "9.44918085634856"
      ]
     },
     "execution_count": 17,
     "metadata": {},
     "output_type": "execute_result"
    }
   ],
   "source": [
    "l = gnr.cell.lengths()\n",
    "A = l[0]*l[2]/100  # [nm2]\n",
    "G = 160*Q/deltaT/A  # [GW/m2/K]\n",
    "G"
   ]
  },
  {
   "cell_type": "markdown",
   "id": "ece0264e",
   "metadata": {},
   "source": [
    "### Plot Spectral Heat Current Results\n",
    " - The [shc.out](https://gpumd.zheyongfan.org/index.php/The_shc.out_output_file) output file is loaded and processed to create the following figure."
   ]
  },
  {
   "cell_type": "code",
   "execution_count": 18,
   "id": "ecb96e0f",
   "metadata": {
    "scrolled": false
   },
   "outputs": [
    {
     "data": {
      "text/plain": [
       "dict_keys(['t', 'Ki', 'Ko', 'nu', 'jwi', 'jwo'])"
      ]
     },
     "execution_count": 18,
     "metadata": {},
     "output_type": "execute_result"
    }
   ],
   "source": [
    "shc = load_shc(250, 1000)['run0']\n",
    "shc.keys()"
   ]
  },
  {
   "cell_type": "code",
   "execution_count": 19,
   "id": "4a78c9b8",
   "metadata": {},
   "outputs": [],
   "source": [
    "Ly = split[5]-split[4]\n",
    "Lx, Lz = l[0], l[2]\n",
    "V = Lx*Ly*Lz\n",
    "Gc = 1.6e4*(shc['jwi']+shc['jwo'])/V/deltaT"
   ]
  },
  {
   "cell_type": "code",
   "execution_count": 20,
   "id": "e1dae70d",
   "metadata": {},
   "outputs": [
    {
     "data": {
      "image/png": "[encoded data removed]",
      "text/plain": [
       "<Figure size 720x360 with 2 Axes>"
      ]
     },
     "metadata": {
      "needs_background": "light"
     },
     "output_type": "display_data"
    }
   ],
   "source": [
    "axes = list()\n",
    "\n",
    "plt.figure(figsize=(10,5))\n",
    "plt.subplot(1,2,1)\n",
    "axes.append(plt.gca())\n",
    "plt.plot(shc['t'], (shc['Ki']+shc['Ko'])/Ly, linewidth=2)\n",
    "plt.xlim([-0.5, 0.5])\n",
    "plt.gca().set_xticks([-0.5, 0, 0.5])\n",
    "plt.ylim([-4, 10])\n",
    "plt.gca().set_yticks(range(-4,11,2))\n",
    "plt.ylabel('K (eV/ps)')\n",
    "plt.xlabel('Correlation time (ps)')\n",
    "plt.title('(a)')\n",
    "\n",
    "plt.subplot(1,2,2)\n",
    "axes.append(plt.gca())\n",
    "plt.plot(shc['nu'], Gc, linewidth=2)\n",
    "plt.xlim([0, 50])\n",
    "plt.gca().set_xticks(range(0,51,10))\n",
    "plt.ylim([0, 0.35])\n",
    "plt.gca().set_yticks(np.linspace(0,0.35,8))\n",
    "plt.ylabel(r'$G$($\\omega$) (GW/m$^2$/K/THz)')\n",
    "plt.xlabel(r'$\\omega$/2$\\pi$ (THz)')\n",
    "plt.title('(b)')\n",
    "\n",
    "set_fig_properties(axes)\n",
    "plt.tight_layout()\n",
    "plt.show()"
   ]
  },
  {
   "cell_type": "markdown",
   "id": "665b1d96",
   "metadata": {},
   "source": [
    "**(a)** Virial-velocity correlation function. **(b)** Spectral thermal conductance."
   ]
  },
  {
   "cell_type": "markdown",
   "id": "cc726fdd",
   "metadata": {},
   "source": [
    "- The figure above shows the virial-velocity correlation function $K(t)$ and the spectral thermal conductance $G(\\omega)$. See [Theoretical formulations](https://gpumd.zheyongfan.org/index.php/Theoretical_formulations) for the definitions of these quantities. Using the spectral thermal conductance, one can perform quantum correction, see [[Li 2019]](https://doi.org/10.1063/1.5132543)."
   ]
  },
  {
   "cell_type": "code",
   "execution_count": 21,
   "id": "1aaac5eb",
   "metadata": {},
   "outputs": [],
   "source": [
    "np.save('Gc.npy', Gc)"
   ]
  },
  {
   "cell_type": "markdown",
   "id": "0e4c1e1f",
   "metadata": {},
   "source": [
    "## 4. References\n",
    "- [Fan 2019] Zheyong Fan, Haikuan Dong, Ari Harju, and Tapio Ala-Nissila, [Homogeneous nonequilibrium molecular dynamics method for heat transport and spectral decomposition with many-body potentials](https://doi.org/10.1103/PhysRevB.99.064308), Phys. Rev. B **99**, 064308 (2019).\n",
    "- [Li 2019] Zhen Li, Shiyun Xiong, Charles Sievers, Yue Hu, Zheyong Fan, Ning Wei, Hua Bao, Shunda Chen, Davide Donadio, and Tapio Ala-Nissila, [Influence of Thermostatting on Nonequilibrium Molecular Dynamics Simulations of Heat Conduction in Solids](https://doi.org/10.1063/1.5132543), J. Chem. Phys. **151**, 234105 (2019).\n",
    "- [Lindsay 2010] L. Lindsay and D.A. Broido, [Optimized Tersoff and Brenner emperical potential parameters for lattice dynamics and phonon thermal transport in carbon nanotubes and graphene](https://doi.org/10.1103/PhysRevB.39.5566), Phys. Rev. B, **81**, 205441 (2010).\n",
    "- [Tersoff 1989] J. Tersoff, [Modeling solid-state chemistry: Interatomic potentials for multicomponent systems](https://doi.org/10.1103/PhysRevB.39.5566), Phys. Rev. B 39, 5566(R) (1989)."
   ]
  }
 ],
 "metadata": {
  "kernelspec": {
   "display_name": "Python 3 (ipykernel)",
   "language": "python",
   "name": "python3"
  },
  "language_info": {
   "codemirror_mode": {
    "name": "ipython",
    "version": 3
   },
   "file_extension": ".py",
   "mimetype": "text/x-python",
   "name": "python",
   "nbconvert_exporter": "python",
   "pygments_lexer": "ipython3",
   "version": "3.8.12"
  }
 },
 "nbformat": 4,
 "nbformat_minor": 5
}
